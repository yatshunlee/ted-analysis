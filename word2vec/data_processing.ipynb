{
 "cells": [
  {
   "cell_type": "code",
   "execution_count": 1,
   "metadata": {},
   "outputs": [],
   "source": [
    "import pandas as pd\n",
    "import numpy as np\n",
    "from itertools import combinations\n",
    "\n",
    "pd.options.display.float_format = \"{:.0f}\".format"
   ]
  },
  {
   "cell_type": "code",
   "execution_count": 2,
   "metadata": {},
   "outputs": [
    {
     "name": "stdout",
     "output_type": "stream",
     "text": [
      "<class 'pandas.core.frame.DataFrame'>\n",
      "RangeIndex: 4005 entries, 0 to 4004\n",
      "Data columns (total 19 columns):\n",
      " #   Column          Non-Null Count  Dtype  \n",
      "---  ------          --------------  -----  \n",
      " 0   talk_id         4005 non-null   int64  \n",
      " 1   title           4005 non-null   object \n",
      " 2   speaker_1       4005 non-null   object \n",
      " 3   all_speakers    4001 non-null   object \n",
      " 4   occupations     3483 non-null   object \n",
      " 5   about_speakers  3502 non-null   object \n",
      " 6   views           4005 non-null   int64  \n",
      " 7   recorded_date   4004 non-null   object \n",
      " 8   published_date  4005 non-null   object \n",
      " 9   event           4005 non-null   object \n",
      " 10  native_lang     4005 non-null   object \n",
      " 11  available_lang  4005 non-null   object \n",
      " 12  comments        3350 non-null   float64\n",
      " 13  duration        4005 non-null   int64  \n",
      " 14  topics          4005 non-null   object \n",
      " 15  related_talks   4005 non-null   object \n",
      " 16  url             4005 non-null   object \n",
      " 17  description     4005 non-null   object \n",
      " 18  transcript      4005 non-null   object \n",
      "dtypes: float64(1), int64(3), object(15)\n",
      "memory usage: 594.6+ KB\n"
     ]
    }
   ],
   "source": [
    "# output df.csv = main dataset used, total 4005 ted talks\n",
    "\n",
    "df = pd.read_csv(\"raw_data/ted_talks_en.csv\")\n",
    "\n",
    "# df.to_csv(\"output/df.csv\", index = False)\n",
    "df.info()"
   ]
  },
  {
   "cell_type": "code",
   "execution_count": 3,
   "metadata": {},
   "outputs": [
    {
     "name": "stdout",
     "output_type": "stream",
     "text": [
      "<class 'pandas.core.frame.DataFrame'>\n",
      "RangeIndex: 31709 entries, 0 to 31708\n",
      "Data columns (total 2 columns):\n",
      " #   Column        Non-Null Count  Dtype \n",
      "---  ------        --------------  ----- \n",
      " 0   topic         31709 non-null  object\n",
      " 1   topic_talkid  31709 non-null  int64 \n",
      "dtypes: int64(1), object(1)\n",
      "memory usage: 495.6+ KB\n"
     ]
    }
   ],
   "source": [
    "# output df_topic.csv = split the list of topics of each ted talk into keywords, \"topic_talkid\" is the original talk_id, 31709 rows returned\n",
    "\n",
    "list_topic = []\n",
    "list_topic_talkid = []\n",
    "\n",
    "for i in range(len(df)):\n",
    "    topic_i = df[\"topics\"][i].replace(\"[\", \"\\'\").replace(\"]\", \"\\'\").replace(\", \", \"\\'\").replace(\" \", \"_\").split(\"\\'\")\n",
    "    list_topic_i = [x for x in topic_i if x]\n",
    "    list_topic_talkid_i = df[\"talk_id\"][i].repeat(len(list_topic_i)).tolist()\n",
    "    for j in range(len(list_topic_i)):\n",
    "        list_topic.append(list_topic_i[j])\n",
    "    for k in range(len(list_topic_talkid_i)):\n",
    "        list_topic_talkid.append(list_topic_talkid_i[k])\n",
    "        \n",
    "df_topic = pd.DataFrame(\n",
    "    {\"topic\": list_topic,\n",
    "    \"topic_talkid\": list_topic_talkid})\n",
    "\n",
    "# df_topic.to_csv(\"output/df_topic.csv\", index = False)\n",
    "df_topic.info()"
   ]
  },
  {
   "cell_type": "code",
   "execution_count": 4,
   "metadata": {},
   "outputs": [
    {
     "name": "stdout",
     "output_type": "stream",
     "text": [
      "<class 'pandas.core.frame.DataFrame'>\n",
      "RangeIndex: 458 entries, 0 to 457\n",
      "Data columns (total 1 columns):\n",
      " #   Column  Non-Null Count  Dtype \n",
      "---  ------  --------------  ----- \n",
      " 0   topic   458 non-null    object\n",
      "dtypes: object(1)\n",
      "memory usage: 3.7+ KB\n"
     ]
    }
   ],
   "source": [
    "# output df_topic_unique.csv = list of unique keywords in \"topics\", 458 results returned\n",
    "\n",
    "list_topic_unique = df_topic[\"topic\"].unique().tolist()\n",
    "df_topic_unique = pd.DataFrame({\"topic\": list_topic_unique})\n",
    "\n",
    "# df_topic_unique.to_csv(\"output/df_topic_unique.csv\", index = False)\n",
    "df_topic_unique.info()"
   ]
  },
  {
   "cell_type": "code",
   "execution_count": 5,
   "metadata": {},
   "outputs": [
    {
     "name": "stdout",
     "output_type": "stream",
     "text": [
      "<class 'pandas.core.frame.DataFrame'>\n",
      "RangeIndex: 380 entries, 0 to 379\n",
      "Data columns (total 1 columns):\n",
      " #   Column  Non-Null Count  Dtype \n",
      "---  ------  --------------  ----- \n",
      " 0   topic   380 non-null    object\n",
      "dtypes: object(1)\n",
      "memory usage: 3.1+ KB\n"
     ]
    }
   ],
   "source": [
    "# unique keywords is then checked against the vocab list in \"word2vec-google-news-300\" (plz refer to google colab notebook), 380 results returned\n",
    "# then read the result df_topic_unique_selected.csv generated from google colab\n",
    "\n",
    "df_topic_unique_selected = pd.read_csv(\"colab_result/df_topic_unique_selected.csv\")\n",
    "df_topic_unique_selected.info()"
   ]
  },
  {
   "cell_type": "code",
   "execution_count": 6,
   "metadata": {},
   "outputs": [
    {
     "name": "stdout",
     "output_type": "stream",
     "text": [
      "<class 'pandas.core.frame.DataFrame'>\n",
      "Index: 380 entries, introvert to gay\n",
      "Data columns (total 5 columns):\n",
      " #   Column        Non-Null Count  Dtype  \n",
      "---  ------        --------------  -----  \n",
      " 0   views         380 non-null    int64  \n",
      " 1   comments      380 non-null    float64\n",
      " 2   topic_count   380 non-null    int64  \n",
      " 3   views_avg     380 non-null    float64\n",
      " 4   comments_avg  380 non-null    float64\n",
      "dtypes: float64(3), int64(2)\n",
      "memory usage: 17.8+ KB\n"
     ]
    }
   ],
   "source": [
    "# output df_topic_final_views_avg.csv \n",
    "# \"topic_count\" count the total number of selected keywords in the main dataset, used as the size in scatter plot\n",
    "# \"views_avg\" = \"views\" / \"topic_count\" ; \"comments_avg\" = \"comments\" / \"topic_count\" , used as the color in scatter plot\n",
    "\n",
    "df_topic_final = df_topic_unique_selected.merge(df_topic, on = \"topic\", how = \"left\")\n",
    "df_topic_final_freq = df_topic_final.groupby(\"topic\").agg({\"topic_talkid\": pd.Series.nunique}).sort_values(\"topic_talkid\", ascending=False)\n",
    "df_topic_final_freq = df_topic_final_freq.rename(columns={\"topic_talkid\": \"topic_count\"})\n",
    "\n",
    "df_topic_final_views = df_topic_final.merge(df, left_on = \"topic_talkid\", right_on = \"talk_id\", how = \"left\")[[\"topic\",\"views\",\"comments\"]]\n",
    "df_topic_final_views = df_topic_final_views.groupby(\"topic\").agg({\"views\": np.sum, \"comments\": np.sum}).sort_values(\"views\", ascending=False)\n",
    "\n",
    "df_topic_final_views_avg = df_topic_final_views.join(df_topic_final_freq)\n",
    "df_topic_final_views_avg[\"views_avg\"] = df_topic_final_views_avg[\"views\"]/df_topic_final_views_avg[\"topic_count\"]\n",
    "df_topic_final_views_avg[\"comments_avg\"] = df_topic_final_views_avg[\"comments\"]/df_topic_final_views_avg[\"topic_count\"]\n",
    "df_topic_final_views_avg = df_topic_final_views_avg.sort_values(\"views_avg\", ascending=False)\n",
    "\n",
    "# df_topic_final_views_avg.to_csv(\"output/df_topic_final_views_avg.csv\", index = True)\n",
    "df_topic_final_views_avg.info()"
   ]
  },
  {
   "cell_type": "code",
   "execution_count": 7,
   "metadata": {},
   "outputs": [
    {
     "name": "stdout",
     "output_type": "stream",
     "text": [
      "<class 'pandas.core.frame.DataFrame'>\n",
      "Int64Index: 104012 entries, 0 to 104011\n",
      "Data columns (total 6 columns):\n",
      " #   Column     Non-Null Count   Dtype  \n",
      "---  ------     --------------   -----  \n",
      " 0   list_edge  104012 non-null  object \n",
      " 1   node1      104012 non-null  object \n",
      " 2   node2      104012 non-null  object \n",
      " 3   talk_id    104012 non-null  int64  \n",
      " 4   views      104012 non-null  int64  \n",
      " 5   comments   90226 non-null   float64\n",
      "dtypes: float64(1), int64(2), object(3)\n",
      "memory usage: 5.6+ MB\n"
     ]
    }
   ],
   "source": [
    "# generate the egdes list for keyword network, further plot by gephi\n",
    "# 380 nodes & 104012 edges returned (some edges repeated in different ted talks)\n",
    "# further calculate the average views and comments\n",
    "\n",
    "df_edges = df_topic[df_topic[\"topic\"].isin(df_topic_unique_selected[\"topic\"])].sort_values([\"topic_talkid\",\"topic\"])\n",
    "\n",
    "list_edge = []\n",
    "list_node1 = []\n",
    "list_node2 = []\n",
    "list_edge_talkid = []\n",
    "\n",
    "for i in df_edges[\"topic_talkid\"].unique().tolist(): #4003\n",
    "    df_edge_i = df_edges[df_edges[\"topic_talkid\"] == i][\"topic\"].tolist()\n",
    "    y = list(combinations(df_edge_i, 2))\n",
    "    for j in range(len(y)):\n",
    "        list_edge.append(y[j])\n",
    "        list_node1.append(y[j][0])\n",
    "        list_node2.append(y[j][1])\n",
    "        list_edge_talkid.append(i)\n",
    "\n",
    "df_edge_talkid = pd.DataFrame(\n",
    "    {\"list_edge\": list_edge,\n",
    "    \"node1\": list_node1,\n",
    "    \"node2\": list_node2,\n",
    "    \"edge_talkid\": list_edge_talkid})\n",
    "\n",
    "df_edge_talkid = df_edge_talkid.merge(df[[\"talk_id\",\"views\",\"comments\"]], left_on = \"edge_talkid\", right_on = \"talk_id\", how = \"left\")\n",
    "df_edge_talkid = df_edge_talkid.drop(columns=\"edge_talkid\")\n",
    "\n",
    "# df_edge_talkid.to_csv(\"output/df_edge_talkid.csv\", index = False)\n",
    "df_edge_talkid.info()"
   ]
  },
  {
   "cell_type": "code",
   "execution_count": null,
   "metadata": {},
   "outputs": [],
   "source": []
  }
 ],
 "metadata": {
  "kernelspec": {
   "display_name": "Python 3",
   "language": "python",
   "name": "python3"
  },
  "language_info": {
   "codemirror_mode": {
    "name": "ipython",
    "version": 3
   },
   "file_extension": ".py",
   "mimetype": "text/x-python",
   "name": "python",
   "nbconvert_exporter": "python",
   "pygments_lexer": "ipython3",
   "version": "3.8.3"
  }
 },
 "nbformat": 4,
 "nbformat_minor": 4
}
