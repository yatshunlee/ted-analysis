{
 "cells": [
  {
   "cell_type": "code",
   "execution_count": 57,
   "metadata": {},
   "outputs": [],
   "source": [
    "import numpy as np\n",
    "import pandas as pd\n",
    "import matplotlib.pyplot as plt\n",
    "import seaborn as sns\n",
    "\n",
    "# from pysal.model import spreg\n",
    "# from pysal.lib import weights\n",
    "# from pysal.explore import esda\n",
    "from scipy import stats\n",
    "import statsmodels.api as sm\n",
    "# import statsmodels.formula.api as sm\n",
    "\n",
    "from scipy.sparse import csr_matrix\n",
    "from sklearn.neighbors import NearestNeighbors"
   ]
  },
  {
   "cell_type": "code",
   "execution_count": 58,
   "metadata": {},
   "outputs": [],
   "source": [
    "df = pd.read_csv('database/ted_main.csv')"
   ]
  },
  {
   "cell_type": "code",
   "execution_count": 59,
   "metadata": {},
   "outputs": [
    {
     "data": {
      "text/html": [
       "<div>\n",
       "<style scoped>\n",
       "    .dataframe tbody tr th:only-of-type {\n",
       "        vertical-align: middle;\n",
       "    }\n",
       "\n",
       "    .dataframe tbody tr th {\n",
       "        vertical-align: top;\n",
       "    }\n",
       "\n",
       "    .dataframe thead th {\n",
       "        text-align: right;\n",
       "    }\n",
       "</style>\n",
       "<table border=\"1\" class=\"dataframe\">\n",
       "  <thead>\n",
       "    <tr style=\"text-align: right;\">\n",
       "      <th></th>\n",
       "      <th>comments</th>\n",
       "      <th>description</th>\n",
       "      <th>duration</th>\n",
       "      <th>event</th>\n",
       "      <th>film_date</th>\n",
       "      <th>languages</th>\n",
       "      <th>main_speaker</th>\n",
       "      <th>name</th>\n",
       "      <th>num_speaker</th>\n",
       "      <th>published_date</th>\n",
       "      <th>ratings</th>\n",
       "      <th>related_talks</th>\n",
       "      <th>speaker_occupation</th>\n",
       "      <th>tags</th>\n",
       "      <th>title</th>\n",
       "      <th>url</th>\n",
       "      <th>views</th>\n",
       "    </tr>\n",
       "  </thead>\n",
       "  <tbody>\n",
       "    <tr>\n",
       "      <th>0</th>\n",
       "      <td>4553</td>\n",
       "      <td>Sir Ken Robinson makes an entertaining and pro...</td>\n",
       "      <td>1164</td>\n",
       "      <td>TED2006</td>\n",
       "      <td>1140825600</td>\n",
       "      <td>60</td>\n",
       "      <td>Ken Robinson</td>\n",
       "      <td>Ken Robinson: Do schools kill creativity?</td>\n",
       "      <td>1</td>\n",
       "      <td>1151367060</td>\n",
       "      <td>[{'id': 7, 'name': 'Funny', 'count': 19645}, {...</td>\n",
       "      <td>[{'id': 865, 'hero': 'https://pe.tedcdn.com/im...</td>\n",
       "      <td>Author/educator</td>\n",
       "      <td>['children', 'creativity', 'culture', 'dance',...</td>\n",
       "      <td>Do schools kill creativity?</td>\n",
       "      <td>https://www.ted.com/talks/ken_robinson_says_sc...</td>\n",
       "      <td>47227110</td>\n",
       "    </tr>\n",
       "    <tr>\n",
       "      <th>1</th>\n",
       "      <td>265</td>\n",
       "      <td>With the same humor and humanity he exuded in ...</td>\n",
       "      <td>977</td>\n",
       "      <td>TED2006</td>\n",
       "      <td>1140825600</td>\n",
       "      <td>43</td>\n",
       "      <td>Al Gore</td>\n",
       "      <td>Al Gore: Averting the climate crisis</td>\n",
       "      <td>1</td>\n",
       "      <td>1151367060</td>\n",
       "      <td>[{'id': 7, 'name': 'Funny', 'count': 544}, {'i...</td>\n",
       "      <td>[{'id': 243, 'hero': 'https://pe.tedcdn.com/im...</td>\n",
       "      <td>Climate advocate</td>\n",
       "      <td>['alternative energy', 'cars', 'climate change...</td>\n",
       "      <td>Averting the climate crisis</td>\n",
       "      <td>https://www.ted.com/talks/al_gore_on_averting_...</td>\n",
       "      <td>3200520</td>\n",
       "    </tr>\n",
       "    <tr>\n",
       "      <th>2</th>\n",
       "      <td>124</td>\n",
       "      <td>New York Times columnist David Pogue takes aim...</td>\n",
       "      <td>1286</td>\n",
       "      <td>TED2006</td>\n",
       "      <td>1140739200</td>\n",
       "      <td>26</td>\n",
       "      <td>David Pogue</td>\n",
       "      <td>David Pogue: Simplicity sells</td>\n",
       "      <td>1</td>\n",
       "      <td>1151367060</td>\n",
       "      <td>[{'id': 7, 'name': 'Funny', 'count': 964}, {'i...</td>\n",
       "      <td>[{'id': 1725, 'hero': 'https://pe.tedcdn.com/i...</td>\n",
       "      <td>Technology columnist</td>\n",
       "      <td>['computers', 'entertainment', 'interface desi...</td>\n",
       "      <td>Simplicity sells</td>\n",
       "      <td>https://www.ted.com/talks/david_pogue_says_sim...</td>\n",
       "      <td>1636292</td>\n",
       "    </tr>\n",
       "    <tr>\n",
       "      <th>3</th>\n",
       "      <td>200</td>\n",
       "      <td>In an emotionally charged talk, MacArthur-winn...</td>\n",
       "      <td>1116</td>\n",
       "      <td>TED2006</td>\n",
       "      <td>1140912000</td>\n",
       "      <td>35</td>\n",
       "      <td>Majora Carter</td>\n",
       "      <td>Majora Carter: Greening the ghetto</td>\n",
       "      <td>1</td>\n",
       "      <td>1151367060</td>\n",
       "      <td>[{'id': 3, 'name': 'Courageous', 'count': 760}...</td>\n",
       "      <td>[{'id': 1041, 'hero': 'https://pe.tedcdn.com/i...</td>\n",
       "      <td>Activist for environmental justice</td>\n",
       "      <td>['MacArthur grant', 'activism', 'business', 'c...</td>\n",
       "      <td>Greening the ghetto</td>\n",
       "      <td>https://www.ted.com/talks/majora_carter_s_tale...</td>\n",
       "      <td>1697550</td>\n",
       "    </tr>\n",
       "    <tr>\n",
       "      <th>4</th>\n",
       "      <td>593</td>\n",
       "      <td>You've never seen data presented like this. Wi...</td>\n",
       "      <td>1190</td>\n",
       "      <td>TED2006</td>\n",
       "      <td>1140566400</td>\n",
       "      <td>48</td>\n",
       "      <td>Hans Rosling</td>\n",
       "      <td>Hans Rosling: The best stats you've ever seen</td>\n",
       "      <td>1</td>\n",
       "      <td>1151440680</td>\n",
       "      <td>[{'id': 9, 'name': 'Ingenious', 'count': 3202}...</td>\n",
       "      <td>[{'id': 2056, 'hero': 'https://pe.tedcdn.com/i...</td>\n",
       "      <td>Global health expert; data visionary</td>\n",
       "      <td>['Africa', 'Asia', 'Google', 'demo', 'economic...</td>\n",
       "      <td>The best stats you've ever seen</td>\n",
       "      <td>https://www.ted.com/talks/hans_rosling_shows_t...</td>\n",
       "      <td>12005869</td>\n",
       "    </tr>\n",
       "  </tbody>\n",
       "</table>\n",
       "</div>"
      ],
      "text/plain": [
       "   comments                                        description  duration  \\\n",
       "0      4553  Sir Ken Robinson makes an entertaining and pro...      1164   \n",
       "1       265  With the same humor and humanity he exuded in ...       977   \n",
       "2       124  New York Times columnist David Pogue takes aim...      1286   \n",
       "3       200  In an emotionally charged talk, MacArthur-winn...      1116   \n",
       "4       593  You've never seen data presented like this. Wi...      1190   \n",
       "\n",
       "     event   film_date  languages   main_speaker  \\\n",
       "0  TED2006  1140825600         60   Ken Robinson   \n",
       "1  TED2006  1140825600         43        Al Gore   \n",
       "2  TED2006  1140739200         26    David Pogue   \n",
       "3  TED2006  1140912000         35  Majora Carter   \n",
       "4  TED2006  1140566400         48   Hans Rosling   \n",
       "\n",
       "                                            name  num_speaker  published_date  \\\n",
       "0      Ken Robinson: Do schools kill creativity?            1      1151367060   \n",
       "1           Al Gore: Averting the climate crisis            1      1151367060   \n",
       "2                  David Pogue: Simplicity sells            1      1151367060   \n",
       "3             Majora Carter: Greening the ghetto            1      1151367060   \n",
       "4  Hans Rosling: The best stats you've ever seen            1      1151440680   \n",
       "\n",
       "                                             ratings  \\\n",
       "0  [{'id': 7, 'name': 'Funny', 'count': 19645}, {...   \n",
       "1  [{'id': 7, 'name': 'Funny', 'count': 544}, {'i...   \n",
       "2  [{'id': 7, 'name': 'Funny', 'count': 964}, {'i...   \n",
       "3  [{'id': 3, 'name': 'Courageous', 'count': 760}...   \n",
       "4  [{'id': 9, 'name': 'Ingenious', 'count': 3202}...   \n",
       "\n",
       "                                       related_talks  \\\n",
       "0  [{'id': 865, 'hero': 'https://pe.tedcdn.com/im...   \n",
       "1  [{'id': 243, 'hero': 'https://pe.tedcdn.com/im...   \n",
       "2  [{'id': 1725, 'hero': 'https://pe.tedcdn.com/i...   \n",
       "3  [{'id': 1041, 'hero': 'https://pe.tedcdn.com/i...   \n",
       "4  [{'id': 2056, 'hero': 'https://pe.tedcdn.com/i...   \n",
       "\n",
       "                     speaker_occupation  \\\n",
       "0                       Author/educator   \n",
       "1                      Climate advocate   \n",
       "2                  Technology columnist   \n",
       "3    Activist for environmental justice   \n",
       "4  Global health expert; data visionary   \n",
       "\n",
       "                                                tags  \\\n",
       "0  ['children', 'creativity', 'culture', 'dance',...   \n",
       "1  ['alternative energy', 'cars', 'climate change...   \n",
       "2  ['computers', 'entertainment', 'interface desi...   \n",
       "3  ['MacArthur grant', 'activism', 'business', 'c...   \n",
       "4  ['Africa', 'Asia', 'Google', 'demo', 'economic...   \n",
       "\n",
       "                             title  \\\n",
       "0      Do schools kill creativity?   \n",
       "1      Averting the climate crisis   \n",
       "2                 Simplicity sells   \n",
       "3              Greening the ghetto   \n",
       "4  The best stats you've ever seen   \n",
       "\n",
       "                                                 url     views  \n",
       "0  https://www.ted.com/talks/ken_robinson_says_sc...  47227110  \n",
       "1  https://www.ted.com/talks/al_gore_on_averting_...   3200520  \n",
       "2  https://www.ted.com/talks/david_pogue_says_sim...   1636292  \n",
       "3  https://www.ted.com/talks/majora_carter_s_tale...   1697550  \n",
       "4  https://www.ted.com/talks/hans_rosling_shows_t...  12005869  "
      ]
     },
     "execution_count": 59,
     "metadata": {},
     "output_type": "execute_result"
    }
   ],
   "source": [
    "df.head()"
   ]
  },
  {
   "cell_type": "code",
   "execution_count": 60,
   "metadata": {},
   "outputs": [],
   "source": [
    "# df.film_date = pd.to_datetime(df.film_date,unit='s')\n",
    "# df = df[df.film_date.isin(pd.date_range(start='1/1/2010', end='12/31/2017'))]"
   ]
  },
  {
   "cell_type": "code",
   "execution_count": 61,
   "metadata": {},
   "outputs": [],
   "source": [
    "df.related_talks = df.related_talks.apply(eval)"
   ]
  },
  {
   "cell_type": "code",
   "execution_count": 62,
   "metadata": {},
   "outputs": [
    {
     "data": {
      "text/plain": [
       "6    2464\n",
       "3      66\n",
       "1      12\n",
       "2       8\n",
       "Name: related_talks, dtype: int64"
      ]
     },
     "execution_count": 62,
     "metadata": {},
     "output_type": "execute_result"
    }
   ],
   "source": [
    "df.related_talks.apply(len).value_counts()"
   ]
  },
  {
   "cell_type": "code",
   "execution_count": 63,
   "metadata": {},
   "outputs": [],
   "source": [
    "related_talks = {}\n",
    "\n",
    "for i, talks in enumerate(df.related_talks):\n",
    "    related_talks[i] = []\n",
    "    \n",
    "    for talk in talks:\n",
    "        related_talks[i].append(talk['title'])"
   ]
  },
  {
   "cell_type": "code",
   "execution_count": 64,
   "metadata": {},
   "outputs": [],
   "source": [
    "pairs = set()\n",
    "\n",
    "titles = df.title.unique()\n",
    "\n",
    "for i, talks in enumerate(df.related_talks):\n",
    "    \n",
    "    for talk in talks:\n",
    "        \n",
    "        if (titles[i],talk['title']) and talk['title'] in titles:\n",
    "            \n",
    "            pairs.add((titles[i],talk['title']))"
   ]
  },
  {
   "cell_type": "code",
   "execution_count": 65,
   "metadata": {},
   "outputs": [],
   "source": [
    "# df.tags = df.tags.apply(eval)\n",
    "df_tags = pd.DataFrame([(index, value) for (index, values)\n",
    "                         in df['tags'].iteritems() for value in values],\n",
    "                        columns = ['index', 'tags']).set_index('index').reset_index()\n",
    "df_tags['index'].replace(df_tags['index'].unique(),df.title.unique(), inplace=True)"
   ]
  },
  {
   "cell_type": "markdown",
   "metadata": {},
   "source": [
    "### Generate Nodes, Edges for Network Analysis"
   ]
  },
  {
   "cell_type": "code",
   "execution_count": 66,
   "metadata": {},
   "outputs": [],
   "source": [
    "# nodes = pd.concat([df_tags['index'],pd.get_dummies(df_tags.tags,prefix=None)],axis=1).groupby('index').sum().reset_index()\n",
    "# nodes.rename(columns={'index':'label'},inplace=True)\n",
    "# nodes = nodes.reset_index()\n",
    "# tilte2idx = nodes.set_index('label')['index'].to_dict()"
   ]
  },
  {
   "cell_type": "code",
   "execution_count": 67,
   "metadata": {},
   "outputs": [],
   "source": [
    "# edges = pd.DataFrame(pairs,columns=['Talk1','Talk2'])\n",
    "# edges.Talk1 = edges.Talk1.apply(lambda x: tilte2idx[x])\n",
    "# edges.Talk2 = edges.Talk2.apply(lambda x: tilte2idx[x])"
   ]
  },
  {
   "cell_type": "code",
   "execution_count": 68,
   "metadata": {},
   "outputs": [],
   "source": [
    "# nodes.to_csv('database/nodes_all.csv',index=None)\n",
    "# edges.to_csv('database/edges_all.csv',index=None)"
   ]
  },
  {
   "cell_type": "markdown",
   "metadata": {},
   "source": [
    "### Distribution of Views"
   ]
  },
  {
   "cell_type": "code",
   "execution_count": 69,
   "metadata": {},
   "outputs": [
    {
     "data": {
      "text/plain": [
       "<seaborn.axisgrid.FacetGrid at 0x29fa8c2a8e0>"
      ]
     },
     "execution_count": 69,
     "metadata": {},
     "output_type": "execute_result"
    },
    {
     "data": {
      "image/png": "[encoded data removed]",
      "text/plain": [
       "<Figure size 360x360 with 1 Axes>"
      ]
     },
     "metadata": {
      "needs_background": "light"
     },
     "output_type": "display_data"
    }
   ],
   "source": [
    "# Kernel density estimation\n",
    "sns.displot(df.views, kde=True)"
   ]
  },
  {
   "cell_type": "code",
   "execution_count": 70,
   "metadata": {},
   "outputs": [
    {
     "data": {
      "text/plain": [
       "<seaborn.axisgrid.FacetGrid at 0x29fcc6be280>"
      ]
     },
     "execution_count": 70,
     "metadata": {},
     "output_type": "execute_result"
    },
    {
     "data": {
      "image/png": "[encoded data removed]",
      "text/plain": [
       "<Figure size 360x360 with 1 Axes>"
      ]
     },
     "metadata": {
      "needs_background": "light"
     },
     "output_type": "display_data"
    }
   ],
   "source": [
    "# Empirical cumulative distributions\n",
    "sns.displot(df.views, kind=\"ecdf\")"
   ]
  },
  {
   "attachments": {
    "image.png": {
     "image/png": "[encoded data removed]"
    }
   },
   "cell_type": "markdown",
   "metadata": {},
   "source": [
    "### Moran's I\n",
    "![image.png](attachment:image.png)\n",
    "\n",
    "Values of I usually range from −1 to +1. Values significantly below -1/(N-1) indicate negative spatial autocorrelation and values significantly above -1/(N-1) indicate positive spatial autocorrelation. "
   ]
  },
  {
   "cell_type": "code",
   "execution_count": 71,
   "metadata": {},
   "outputs": [],
   "source": [
    "W = pd.DataFrame(np.zeros((df.title.nunique(),df.title.nunique())),\n",
    "                 index=df.title.unique(),columns=df.title.unique())"
   ]
  },
  {
   "cell_type": "code",
   "execution_count": 72,
   "metadata": {},
   "outputs": [],
   "source": [
    "for pair in pairs:\n",
    "    W.loc[pair[0],pair[1]]+=1\n",
    "#     W.loc[pair[1],pair[0]]+=1\n",
    "\n",
    "# # Diagonal Matrix = 0\n",
    "# for title in titles:\n",
    "#     W.loc[title,title]+=1"
   ]
  },
  {
   "cell_type": "code",
   "execution_count": 73,
   "metadata": {},
   "outputs": [
    {
     "data": {
      "text/plain": [
       "{0.0, 1.0}"
      ]
     },
     "execution_count": 73,
     "metadata": {},
     "output_type": "execute_result"
    }
   ],
   "source": [
    "set(list(W.to_numpy().ravel()))"
   ]
  },
  {
   "cell_type": "code",
   "execution_count": 74,
   "metadata": {},
   "outputs": [
    {
     "data": {
      "text/plain": [
       "False"
      ]
     },
     "execution_count": 74,
     "metadata": {},
     "output_type": "execute_result"
    }
   ],
   "source": [
    "def check_symmetric(a, rtol=1e-05, atol=1e-08):\n",
    "    return np.allclose(a, a.T, rtol=rtol, atol=atol)\n",
    "\n",
    "check_symmetric(W.to_numpy())"
   ]
  },
  {
   "cell_type": "code",
   "execution_count": 75,
   "metadata": {
    "scrolled": true
   },
   "outputs": [],
   "source": [
    "# # transform weights into row standard weights\n",
    "\n",
    "horizontal_sum_W = W.sum(axis=1)\n",
    "row_std_w = W.div(horizontal_sum_W,axis=1)\n",
    "row_std_w = row_std_w.to_numpy()\n",
    "\n",
    "# the original weights\n",
    "# row_std_w = W.to_numpy()\n",
    "\n",
    "# copy weights\n",
    "copy_w = np.copy(row_std_w)"
   ]
  },
  {
   "cell_type": "code",
   "execution_count": 76,
   "metadata": {},
   "outputs": [],
   "source": [
    "# response: view\n",
    "y = df.views.values\n",
    "y_mean = np.mean(y)\n",
    "\n",
    "# Num of titles in total\n",
    "N = df.title.nunique()\n",
    "\n",
    "# y-y_hat\n",
    "for i in range(N):\n",
    "    globals()[f'd{i}'] = y[i] - y_mean       \n",
    "\n",
    "# list of (y-y_hat) for => Σ(y-y_hat)\n",
    "D = [globals()[f'd{n}'] for n in range(N)]\n",
    "\n",
    "# list of (y-y_hat)^2 for => Σ(y-y_hat)^2\n",
    "D_sq = [d**2 for d in D]"
   ]
  },
  {
   "cell_type": "code",
   "execution_count": 77,
   "metadata": {},
   "outputs": [],
   "source": [
    "# ΣiΣj wij\n",
    "sum_W = np.sum(row_std_w)\n",
    "\n",
    "# W x D:\n",
    "# Wij x (Yi-Y_hat) x (Yj-Y_hat)\n",
    "for i in range(N):\n",
    "    for j in range(N):\n",
    "        if row_std_w[i,j]!=0:\n",
    "            row_std_w[i,j]*=D[i]*D[j]"
   ]
  },
  {
   "cell_type": "code",
   "execution_count": 78,
   "metadata": {},
   "outputs": [
    {
     "name": "stdout",
     "output_type": "stream",
     "text": [
      "Moran's I: 0.18779332276424487\n"
     ]
    }
   ],
   "source": [
    "# Conclusion: Weak positive spatial correlation\n",
    "\n",
    "# Moran's I\n",
    "\n",
    "# ΣiΣj(wij x (Yi-Y_hat) x (Yj-Y_hat))      N\n",
    "# ----------------------------------- x --------\n",
    "#          Σi(Yi-Y_hat)^2               ΣiΣj wij\n",
    "\n",
    "moransI = (np.sum(row_std_w)/sum(D_sq)) * (N / sum_W)\n",
    "\n",
    "print('Moran\\'s I:', moransI)"
   ]
  },
  {
   "attachments": {
    "image-2.png": {
     "image/png": "[encoded data removed]"
    },
    "image-4.png": {
     "image/png": "[encoded data removed]"
    },
    "image-5.png": {
     "image/png": "[encoded data removed]"
    },
    "image-6.png": {
     "image/png": "[encoded data removed]"
    },
    "image-7.png": {
     "image/png": "[encoded data removed]"
    },
    "image-8.png": {
     "image/png": "[encoded data removed]"
    },
    "image.png": {
     "image/png": "[encoded data removed]"
    }
   },
   "cell_type": "markdown",
   "metadata": {},
   "source": [
    "#### Expected Value of Moran's I\n",
    "![image-2.png](attachment:image-2.png)\n",
    "#### Variance of Moran's I\n",
    "![image.png](attachment:image.png)\n",
    "![image-5.png](attachment:image-5.png)\n",
    "![image-6.png](attachment:image-6.png)\n",
    "![image-4.png](attachment:image-4.png)\n",
    "![image-7.png](attachment:image-7.png)\n",
    "![image-8.png](attachment:image-8.png)\n",
    "\n",
    "For statistical hypothesis testing, Moran's I values can be transformed to z-scores.\n",
    "\n",
    "link: https://en.wikipedia.org/wiki/Moran%27s_I"
   ]
  },
  {
   "cell_type": "code",
   "execution_count": 79,
   "metadata": {},
   "outputs": [],
   "source": [
    "# use the original weights\n",
    "row_std_w = copy_w\n",
    "\n",
    "# Calculating S1\n",
    "S1 = 0\n",
    "\n",
    "for i in range(N):\n",
    "    for j in range(N):\n",
    "        S1 += (row_std_w[i,j]+row_std_w[j,i])**2\n",
    "        \n",
    "S1 *= 0.5\n",
    "\n",
    "# Calculating S2\n",
    "S2 = 0\n",
    "\n",
    "for i in range(N):\n",
    "    sum_wij, sum_wji = 0, 0\n",
    "    \n",
    "    for j in range(N):\n",
    "        sum_wij += row_std_w[i,j]\n",
    "    for j in range(N):\n",
    "        sum_wji += row_std_w[j,i]\n",
    "    \n",
    "    S2 += (sum_wij + sum_wji)**2\n",
    "    \n",
    "# Calculating S3 \n",
    "D_power_of_4 = [d**4 for d in D]\n",
    "\n",
    "S3 = (1/N * sum(D_power_of_4)) / (1/N * sum(D_sq))**2\n",
    "\n",
    "# Calculating S4\n",
    "S4 = (N**2 - 3*N + 3) * S1 - N * S2 + 3 * sum_W**2\n",
    "\n",
    "# Calculating S5\n",
    "S5 = (N**2 - N) * S1 - 2 * N * S2 + 6 * sum_W**2"
   ]
  },
  {
   "cell_type": "code",
   "execution_count": 80,
   "metadata": {},
   "outputs": [
    {
     "name": "stdout",
     "output_type": "stream",
     "text": [
      "Expected value E(I): -0.00039231071008238524\n",
      "Variance VAR(I): 8.693771449166933e-05\n",
      "Z score of I: 20.182843651008795\n"
     ]
    }
   ],
   "source": [
    "EXP_I = -1 / (N-1)\n",
    "VAR_I = (N * S4 - S3 * S5) / ((N-1) * (N-2) * (N-3) * sum_W**2) - EXP_I**2\n",
    "\n",
    "print('Expected value E(I):', EXP_I) # the random case\n",
    "print('Variance VAR(I):', VAR_I)\n",
    "print('Z score of I:', (moransI-EXP_I)/VAR_I**0.5)"
   ]
  },
  {
   "cell_type": "markdown",
   "metadata": {},
   "source": [
    "### Moran's I Scatter Plot"
   ]
  },
  {
   "cell_type": "code",
   "execution_count": 81,
   "metadata": {
    "scrolled": true
   },
   "outputs": [],
   "source": [
    "W_Y = np.copy(copy_w)\n",
    "views_series = df.views"
   ]
  },
  {
   "cell_type": "code",
   "execution_count": 82,
   "metadata": {
    "scrolled": true
   },
   "outputs": [],
   "source": [
    "i, j = np.where(W_Y>0)\n",
    "\n",
    "first = True\n",
    "lst = []\n",
    "avg_list = []\n",
    "\n",
    "for k in range(len(i)):\n",
    "    if not first and i_idx != i[k]:\n",
    "        avg_list.append(np.mean(lst))\n",
    "        lst = []\n",
    "    \n",
    "    first = False\n",
    "    \n",
    "    i_idx, j_idx = i[k], j[k]\n",
    "    \n",
    "    lst.append(views_series[j_idx])\n",
    "    \n",
    "avg_list.append(np.mean(lst))"
   ]
  },
  {
   "cell_type": "code",
   "execution_count": 87,
   "metadata": {},
   "outputs": [
    {
     "data": {
      "text/plain": [
       "Text(0, 0.5, 'W_Views')"
      ]
     },
     "execution_count": 87,
     "metadata": {},
     "output_type": "execute_result"
    },
    {
     "data": {
      "image/png": "[encoded data removed]",
      "text/plain": [
       "<Figure size 432x288 with 1 Axes>"
      ]
     },
     "metadata": {
      "needs_background": "light"
     },
     "output_type": "display_data"
    }
   ],
   "source": [
    "normalized_views = [(ele-np.mean(views_series.values))/np.std(views_series.values) for ele in views_series.values]\n",
    "normalized_avg_list = [(ele-np.mean(avg_list))/np.std(avg_list) for ele in avg_list]\n",
    "\n",
    "# transform into numpy array\n",
    "normalized_views = np.array(normalized_views)\n",
    "normalized_avg_list = np.array(normalized_avg_list)\n",
    "\n",
    "# HH\n",
    "hh_idx = np.intersect1d(np.where((np.array(normalized_views)>0)),np.where((np.array(normalized_avg_list)>0)))\n",
    "# low values surrounded by high values (outliers)\n",
    "lh_idx = np.intersect1d(np.where((np.array(normalized_views)<=0)),np.where((np.array(normalized_avg_list)>0)))\n",
    "# high values surrounded by low values (outliers)\n",
    "hl_idx = np.intersect1d(np.where((np.array(normalized_views)>0)),np.where((np.array(normalized_avg_list)<=0)))\n",
    "# LL\n",
    "ll_idx = np.intersect1d(np.where((np.array(normalized_views)<=0)),np.where((np.array(normalized_avg_list)<=0)))\n",
    "\n",
    "# plot different regions: High-High, High-Low, Low-High, Low-Low\n",
    "plt.scatter(normalized_views[hh_idx],normalized_avg_list[hh_idx],\n",
    "            color='blue',alpha=0.5)\n",
    "plt.scatter(normalized_views[lh_idx],normalized_avg_list[lh_idx],\n",
    "            color='blue',alpha=0.5)\n",
    "plt.scatter(normalized_views[hl_idx],normalized_avg_list[hl_idx],\n",
    "            color='blue',alpha=0.5)\n",
    "plt.scatter(normalized_views[ll_idx],normalized_avg_list[ll_idx],\n",
    "            color='blue',alpha=0.5)\n",
    "\n",
    "# separate the graph into 4 quartiles\n",
    "plt.axvline(x=0,linestyle='--',color='k',alpha=0.5)\n",
    "plt.axhline(y=0,linestyle='--',color='k',alpha=0.5)\n",
    "\n",
    "# plot moran's I\n",
    "x = np.linspace(-5,20,100)\n",
    "y = moransI*x\n",
    "plt.plot(x,y,color='red')\n",
    "\n",
    "# layout\n",
    "plt.title(f'Moran\\'s I: {moransI:.4f}')\n",
    "plt.xlabel('Views')\n",
    "plt.ylabel('W_Views')"
   ]
  },
  {
   "cell_type": "code",
   "execution_count": 84,
   "metadata": {},
   "outputs": [
    {
     "data": {
      "text/plain": [
       "Text(0, 0.5, 'W_Views')"
      ]
     },
     "execution_count": 84,
     "metadata": {},
     "output_type": "execute_result"
    },
    {
     "data": {
      "image/png": "[encoded data removed]",
      "text/plain": [
       "<Figure size 432x288 with 1 Axes>"
      ]
     },
     "metadata": {
      "needs_background": "light"
     },
     "output_type": "display_data"
    }
   ],
   "source": [
    "plt.scatter(normalized_views,normalized_avg_list)\n",
    "\n",
    "x = np.linspace(-5,20,100)\n",
    "y = moransI*x\n",
    "plt.plot(x,y)\n",
    "\n",
    "plt.title(f'Moran\\'s I: {moransI}')\n",
    "plt.xlabel('Views')\n",
    "plt.ylabel('W_Views')"
   ]
  },
  {
   "attachments": {
    "image.png": {
     "image/png": "[encoded data removed]"
    }
   },
   "cell_type": "markdown",
   "metadata": {},
   "source": [
    "### Lisa\n",
    "![image.png](attachment:image.png)"
   ]
  },
  {
   "cell_type": "code",
   "execution_count": 88,
   "metadata": {},
   "outputs": [],
   "source": [
    "from scipy.cluster.hierarchy import dendrogram\n",
    "from sklearn.cluster import KMeans, AgglomerativeClustering"
   ]
  },
  {
   "cell_type": "code",
   "execution_count": 89,
   "metadata": {
    "scrolled": true
   },
   "outputs": [],
   "source": [
    "lisa = []\n",
    "\n",
    "for i in range(N):\n",
    "    tmp_I = 0\n",
    "    for j in range(N):\n",
    "        tmp_I += copy_w[i,j] * D[j]\n",
    "    tmp_I *= (N * D[i] / np.sum(D_sq))\n",
    "    \n",
    "    lisa.append(tmp_I)\n",
    "    \n",
    "lisa = np.array(lisa).reshape(-1,1)"
   ]
  },
  {
   "cell_type": "markdown",
   "metadata": {},
   "source": [
    "#### Stat Testing"
   ]
  },
  {
   "cell_type": "code",
   "execution_count": 118,
   "metadata": {
    "scrolled": true
   },
   "outputs": [
    {
     "data": {
      "text/plain": [
       "Text(0.5, 0, \"Moran's I: 0.1878\")"
      ]
     },
     "execution_count": 118,
     "metadata": {},
     "output_type": "execute_result"
    },
    {
     "data": {
      "image/png": "[encoded data removed]",
      "text/plain": [
       "<Figure size 432x288 with 1 Axes>"
      ]
     },
     "metadata": {
      "needs_background": "light"
     },
     "output_type": "display_data"
    }
   ],
   "source": [
    "sns.kdeplot(lisa.reshape(-1))\n",
    "plt.xlabel(f'Moran\\'s I: {moransI:.4f}')"
   ]
  },
  {
   "cell_type": "code",
   "execution_count": 90,
   "metadata": {},
   "outputs": [],
   "source": [
    "def cal_EXP_Ii(wi, n):\n",
    "    return (-wi) / (n-1)\n",
    "\n",
    "EXP_Ii = []\n",
    "\n",
    "for i in range(N):\n",
    "    EXP_Ii.append(cal_EXP_Ii(np.sum(copy_w[i,:]),N))"
   ]
  },
  {
   "cell_type": "code",
   "execution_count": 91,
   "metadata": {},
   "outputs": [],
   "source": [
    "def cal_b2i(N,D_power_of_4,D_sq,i):\n",
    "    numerator = N * (np.sum(D_power_of_4) - D[i])\n",
    "    denominator = (np.sum(D_sq) - D_sq[i])**2\n",
    "    return numerator/denominator\n",
    "\n",
    "b2i = []\n",
    "\n",
    "for i in range(N):\n",
    "    b2i.append(cal_b2i(N,D_power_of_4,D_sq,i))"
   ]
  },
  {
   "cell_type": "code",
   "execution_count": 92,
   "metadata": {},
   "outputs": [],
   "source": [
    "VAR_Ii = []\n",
    "\n",
    "for i in range(N):\n",
    "    var = (N - b2i[i]) * 1**2 / (N-1) - ((2 * b2i[i] - N) * np.sum(np.multiply(copy_w[i,:],copy_w[i,:])) / ((N-1) * (N-2))) - EXP_Ii[i]**2\n",
    "    VAR_Ii.append(var)"
   ]
  },
  {
   "cell_type": "code",
   "execution_count": 93,
   "metadata": {},
   "outputs": [],
   "source": [
    "Ii_results = pd.DataFrame([df.title.values,list(lisa.reshape(-1)),EXP_Ii,VAR_Ii]).T\n",
    "Ii_results.columns = ['Title','LISA','E(Ii)','VAR(Ii)']\n",
    "Ii_results['Z Score'] = [(Ii_results.loc[i,'LISA'] - Ii_results.loc[i,'E(Ii)']) / Ii_results.loc[i,'VAR(Ii)']**0.5\n",
    "                         for i in range(Ii_results.shape[0])]"
   ]
  },
  {
   "cell_type": "code",
   "execution_count": 106,
   "metadata": {},
   "outputs": [
    {
     "data": {
      "text/html": [
       "<div>\n",
       "<style scoped>\n",
       "    .dataframe tbody tr th:only-of-type {\n",
       "        vertical-align: middle;\n",
       "    }\n",
       "\n",
       "    .dataframe tbody tr th {\n",
       "        vertical-align: top;\n",
       "    }\n",
       "\n",
       "    .dataframe thead th {\n",
       "        text-align: right;\n",
       "    }\n",
       "</style>\n",
       "<table border=\"1\" class=\"dataframe\">\n",
       "  <thead>\n",
       "    <tr style=\"text-align: right;\">\n",
       "      <th></th>\n",
       "      <th>Title</th>\n",
       "      <th>LISA</th>\n",
       "      <th>E(Ii)</th>\n",
       "      <th>VAR(Ii)</th>\n",
       "      <th>Z Score</th>\n",
       "    </tr>\n",
       "  </thead>\n",
       "  <tbody>\n",
       "    <tr>\n",
       "      <th>0</th>\n",
       "      <td>Do schools kill creativity?</td>\n",
       "      <td>9.6962</td>\n",
       "      <td>-0.0004</td>\n",
       "      <td>0.9446</td>\n",
       "      <td>9.9771</td>\n",
       "    </tr>\n",
       "    <tr>\n",
       "      <th>1</th>\n",
       "      <td>Averting the climate crisis</td>\n",
       "      <td>-0.1395</td>\n",
       "      <td>-0.0004</td>\n",
       "      <td>0.9582</td>\n",
       "      <td>-0.1421</td>\n",
       "    </tr>\n",
       "    <tr>\n",
       "      <th>2</th>\n",
       "      <td>Simplicity sells</td>\n",
       "      <td>-0.0015</td>\n",
       "      <td>-0.0004</td>\n",
       "      <td>0.9582</td>\n",
       "      <td>-0.0011</td>\n",
       "    </tr>\n",
       "    <tr>\n",
       "      <th>3</th>\n",
       "      <td>Greening the ghetto</td>\n",
       "      <td>0.0001</td>\n",
       "      <td>-0.0004</td>\n",
       "      <td>0.9582</td>\n",
       "      <td>0.0005</td>\n",
       "    </tr>\n",
       "    <tr>\n",
       "      <th>4</th>\n",
       "      <td>The best stats you've ever seen</td>\n",
       "      <td>0.3454</td>\n",
       "      <td>-0.0004</td>\n",
       "      <td>0.9576</td>\n",
       "      <td>0.3533</td>\n",
       "    </tr>\n",
       "    <tr>\n",
       "      <th>...</th>\n",
       "      <td>...</td>\n",
       "      <td>...</td>\n",
       "      <td>...</td>\n",
       "      <td>...</td>\n",
       "      <td>...</td>\n",
       "    </tr>\n",
       "    <tr>\n",
       "      <th>2545</th>\n",
       "      <td>What we're missing in the debate about immigra...</td>\n",
       "      <td>0.1307</td>\n",
       "      <td>-0.0004</td>\n",
       "      <td>0.9582</td>\n",
       "      <td>0.1339</td>\n",
       "    </tr>\n",
       "    <tr>\n",
       "      <th>2546</th>\n",
       "      <td>The most Martian place on Earth</td>\n",
       "      <td>0.1253</td>\n",
       "      <td>-0.0004</td>\n",
       "      <td>0.9582</td>\n",
       "      <td>0.1284</td>\n",
       "    </tr>\n",
       "    <tr>\n",
       "      <th>2547</th>\n",
       "      <td>What intelligent machines can learn from a sch...</td>\n",
       "      <td>-0.0416</td>\n",
       "      <td>-0.0004</td>\n",
       "      <td>0.9582</td>\n",
       "      <td>-0.0421</td>\n",
       "    </tr>\n",
       "    <tr>\n",
       "      <th>2548</th>\n",
       "      <td>A black man goes undercover in the alt-right</td>\n",
       "      <td>-0.3201</td>\n",
       "      <td>-0.0004</td>\n",
       "      <td>0.9582</td>\n",
       "      <td>-0.3266</td>\n",
       "    </tr>\n",
       "    <tr>\n",
       "      <th>2549</th>\n",
       "      <td>How a video game might help us build better ci...</td>\n",
       "      <td>-0.0379</td>\n",
       "      <td>-0.0004</td>\n",
       "      <td>0.9582</td>\n",
       "      <td>-0.0384</td>\n",
       "    </tr>\n",
       "  </tbody>\n",
       "</table>\n",
       "<p>2550 rows × 5 columns</p>\n",
       "</div>"
      ],
      "text/plain": [
       "                                                  Title    LISA   E(Ii)  \\\n",
       "0                           Do schools kill creativity?  9.6962 -0.0004   \n",
       "1                           Averting the climate crisis -0.1395 -0.0004   \n",
       "2                                      Simplicity sells -0.0015 -0.0004   \n",
       "3                                   Greening the ghetto  0.0001 -0.0004   \n",
       "4                       The best stats you've ever seen  0.3454 -0.0004   \n",
       "...                                                 ...     ...     ...   \n",
       "2545  What we're missing in the debate about immigra...  0.1307 -0.0004   \n",
       "2546                    The most Martian place on Earth  0.1253 -0.0004   \n",
       "2547  What intelligent machines can learn from a sch... -0.0416 -0.0004   \n",
       "2548       A black man goes undercover in the alt-right -0.3201 -0.0004   \n",
       "2549  How a video game might help us build better ci... -0.0379 -0.0004   \n",
       "\n",
       "      VAR(Ii)  Z Score  \n",
       "0      0.9446   9.9771  \n",
       "1      0.9582  -0.1421  \n",
       "2      0.9582  -0.0011  \n",
       "3      0.9582   0.0005  \n",
       "4      0.9576   0.3533  \n",
       "...       ...      ...  \n",
       "2545   0.9582   0.1339  \n",
       "2546   0.9582   0.1284  \n",
       "2547   0.9582  -0.0421  \n",
       "2548   0.9582  -0.3266  \n",
       "2549   0.9582  -0.0384  \n",
       "\n",
       "[2550 rows x 5 columns]"
      ]
     },
     "execution_count": 106,
     "metadata": {},
     "output_type": "execute_result"
    }
   ],
   "source": [
    "pd.concat([Ii_results.Title,Ii_results.iloc[:,1:].astype('float64').round(decimals=4)],axis=1)"
   ]
  },
  {
   "cell_type": "code",
   "execution_count": 94,
   "metadata": {},
   "outputs": [
    {
     "data": {
      "text/html": [
       "<div>\n",
       "<style scoped>\n",
       "    .dataframe tbody tr th:only-of-type {\n",
       "        vertical-align: middle;\n",
       "    }\n",
       "\n",
       "    .dataframe tbody tr th {\n",
       "        vertical-align: top;\n",
       "    }\n",
       "\n",
       "    .dataframe thead th {\n",
       "        text-align: right;\n",
       "    }\n",
       "</style>\n",
       "<table border=\"1\" class=\"dataframe\">\n",
       "  <thead>\n",
       "    <tr style=\"text-align: right;\">\n",
       "      <th></th>\n",
       "      <th>Title</th>\n",
       "      <th>LISA</th>\n",
       "      <th>E(Ii)</th>\n",
       "      <th>VAR(Ii)</th>\n",
       "      <th>Z Score</th>\n",
       "    </tr>\n",
       "  </thead>\n",
       "  <tbody>\n",
       "    <tr>\n",
       "      <th>0</th>\n",
       "      <td>Do schools kill creativity?</td>\n",
       "      <td>9.69616</td>\n",
       "      <td>-0.000392311</td>\n",
       "      <td>0.944557</td>\n",
       "      <td>9.977070</td>\n",
       "    </tr>\n",
       "    <tr>\n",
       "      <th>1</th>\n",
       "      <td>Averting the climate crisis</td>\n",
       "      <td>-0.139478</td>\n",
       "      <td>-0.000392311</td>\n",
       "      <td>0.958161</td>\n",
       "      <td>-0.142090</td>\n",
       "    </tr>\n",
       "    <tr>\n",
       "      <th>2</th>\n",
       "      <td>Simplicity sells</td>\n",
       "      <td>-0.00147033</td>\n",
       "      <td>-0.000392311</td>\n",
       "      <td>0.958173</td>\n",
       "      <td>-0.001101</td>\n",
       "    </tr>\n",
       "    <tr>\n",
       "      <th>3</th>\n",
       "      <td>Greening the ghetto</td>\n",
       "      <td>0.000109958</td>\n",
       "      <td>-0.000392311</td>\n",
       "      <td>0.958173</td>\n",
       "      <td>0.000513</td>\n",
       "    </tr>\n",
       "    <tr>\n",
       "      <th>4</th>\n",
       "      <td>The best stats you've ever seen</td>\n",
       "      <td>0.345381</td>\n",
       "      <td>-0.000392311</td>\n",
       "      <td>0.957603</td>\n",
       "      <td>0.353345</td>\n",
       "    </tr>\n",
       "    <tr>\n",
       "      <th>...</th>\n",
       "      <td>...</td>\n",
       "      <td>...</td>\n",
       "      <td>...</td>\n",
       "      <td>...</td>\n",
       "      <td>...</td>\n",
       "    </tr>\n",
       "    <tr>\n",
       "      <th>2545</th>\n",
       "      <td>What we're missing in the debate about immigra...</td>\n",
       "      <td>0.130681</td>\n",
       "      <td>-0.000392311</td>\n",
       "      <td>0.958165</td>\n",
       "      <td>0.133904</td>\n",
       "    </tr>\n",
       "    <tr>\n",
       "      <th>2546</th>\n",
       "      <td>The most Martian place on Earth</td>\n",
       "      <td>0.125282</td>\n",
       "      <td>-0.000392311</td>\n",
       "      <td>0.958164</td>\n",
       "      <td>0.128389</td>\n",
       "    </tr>\n",
       "    <tr>\n",
       "      <th>2547</th>\n",
       "      <td>What intelligent machines can learn from a sch...</td>\n",
       "      <td>-0.0415568</td>\n",
       "      <td>-0.000392311</td>\n",
       "      <td>0.958164</td>\n",
       "      <td>-0.042054</td>\n",
       "    </tr>\n",
       "    <tr>\n",
       "      <th>2548</th>\n",
       "      <td>A black man goes undercover in the alt-right</td>\n",
       "      <td>-0.320108</td>\n",
       "      <td>-0.000392311</td>\n",
       "      <td>0.958164</td>\n",
       "      <td>-0.326621</td>\n",
       "    </tr>\n",
       "    <tr>\n",
       "      <th>2549</th>\n",
       "      <td>How a video game might help us build better ci...</td>\n",
       "      <td>-0.037933</td>\n",
       "      <td>-0.000392311</td>\n",
       "      <td>0.958164</td>\n",
       "      <td>-0.038351</td>\n",
       "    </tr>\n",
       "  </tbody>\n",
       "</table>\n",
       "<p>2550 rows × 5 columns</p>\n",
       "</div>"
      ],
      "text/plain": [
       "                                                  Title         LISA  \\\n",
       "0                           Do schools kill creativity?      9.69616   \n",
       "1                           Averting the climate crisis    -0.139478   \n",
       "2                                      Simplicity sells  -0.00147033   \n",
       "3                                   Greening the ghetto  0.000109958   \n",
       "4                       The best stats you've ever seen     0.345381   \n",
       "...                                                 ...          ...   \n",
       "2545  What we're missing in the debate about immigra...     0.130681   \n",
       "2546                    The most Martian place on Earth     0.125282   \n",
       "2547  What intelligent machines can learn from a sch...   -0.0415568   \n",
       "2548       A black man goes undercover in the alt-right    -0.320108   \n",
       "2549  How a video game might help us build better ci...    -0.037933   \n",
       "\n",
       "            E(Ii)   VAR(Ii)   Z Score  \n",
       "0    -0.000392311  0.944557  9.977070  \n",
       "1    -0.000392311  0.958161 -0.142090  \n",
       "2    -0.000392311  0.958173 -0.001101  \n",
       "3    -0.000392311  0.958173  0.000513  \n",
       "4    -0.000392311  0.957603  0.353345  \n",
       "...           ...       ...       ...  \n",
       "2545 -0.000392311  0.958165  0.133904  \n",
       "2546 -0.000392311  0.958164  0.128389  \n",
       "2547 -0.000392311  0.958164 -0.042054  \n",
       "2548 -0.000392311  0.958164 -0.326621  \n",
       "2549 -0.000392311  0.958164 -0.038351  \n",
       "\n",
       "[2550 rows x 5 columns]"
      ]
     },
     "metadata": {},
     "output_type": "display_data"
    }
   ],
   "source": [
    "display(Ii_results)"
   ]
  },
  {
   "cell_type": "code",
   "execution_count": 76,
   "metadata": {},
   "outputs": [
    {
     "data": {
      "text/html": [
       "<div>\n",
       "<style scoped>\n",
       "    .dataframe tbody tr th:only-of-type {\n",
       "        vertical-align: middle;\n",
       "    }\n",
       "\n",
       "    .dataframe tbody tr th {\n",
       "        vertical-align: top;\n",
       "    }\n",
       "\n",
       "    .dataframe thead th {\n",
       "        text-align: right;\n",
       "    }\n",
       "</style>\n",
       "<table border=\"1\" class=\"dataframe\">\n",
       "  <thead>\n",
       "    <tr style=\"text-align: right;\">\n",
       "      <th></th>\n",
       "      <th>Title</th>\n",
       "      <th>LISA</th>\n",
       "      <th>E(Ii)</th>\n",
       "      <th>VAR(Ii)</th>\n",
       "      <th>Z Score</th>\n",
       "    </tr>\n",
       "  </thead>\n",
       "  <tbody>\n",
       "    <tr>\n",
       "      <th>344</th>\n",
       "      <td>Do the green thing</td>\n",
       "      <td>-2.08271</td>\n",
       "      <td>-0.000392311</td>\n",
       "      <td>0.958165</td>\n",
       "      <td>-2.127289</td>\n",
       "    </tr>\n",
       "    <tr>\n",
       "      <th>1198</th>\n",
       "      <td>\"Put the financial aid in the bag\"</td>\n",
       "      <td>-2.20161</td>\n",
       "      <td>-0.000196155</td>\n",
       "      <td>0.958131</td>\n",
       "      <td>-2.249002</td>\n",
       "    </tr>\n",
       "  </tbody>\n",
       "</table>\n",
       "</div>"
      ],
      "text/plain": [
       "                                   Title     LISA        E(Ii)   VAR(Ii)  \\\n",
       "344                   Do the green thing -2.08271 -0.000392311  0.958165   \n",
       "1198  \"Put the financial aid in the bag\" -2.20161 -0.000196155  0.958131   \n",
       "\n",
       "       Z Score  \n",
       "344  -2.127289  \n",
       "1198 -2.249002  "
      ]
     },
     "execution_count": 76,
     "metadata": {},
     "output_type": "execute_result"
    }
   ],
   "source": [
    "Ii_results[(abs(Ii_results['Z Score'])>=2)].loc[Ii_results.LISA<0]"
   ]
  },
  {
   "cell_type": "code",
   "execution_count": 108,
   "metadata": {
    "scrolled": true
   },
   "outputs": [
    {
     "data": {
      "text/plain": [
       "Text(0, 0.5, 'W_Views')"
      ]
     },
     "execution_count": 108,
     "metadata": {},
     "output_type": "execute_result"
    },
    {
     "data": {
      "image/png": "[encoded data removed]",
      "text/plain": [
       "<Figure size 432x288 with 1 Axes>"
      ]
     },
     "metadata": {
      "needs_background": "light"
     },
     "output_type": "display_data"
    }
   ],
   "source": [
    "high_high = Ii_results[(abs(Ii_results['Z Score'])>=2)].loc[Ii_results.LISA>0].index\n",
    "insignificant = Ii_results[(abs(Ii_results['Z Score'])<=2)].index\n",
    "low_low = Ii_results[(abs(Ii_results['Z Score'])>=2)].loc[Ii_results.LISA<0].index\n",
    "\n",
    "# plot different regions: High-High, Insignificant, Low-Low\n",
    "plt.scatter(normalized_views[high_high],normalized_avg_list[high_high],\n",
    "            color='red',alpha=0.5)\n",
    "plt.scatter(normalized_views[insignificant],normalized_avg_list[insignificant],\n",
    "            color='gray',alpha=0.2)\n",
    "plt.scatter(normalized_views[low_low],normalized_avg_list[low_low],\n",
    "            color='blue',alpha=0.5)\n",
    "\n",
    "# separate the graph into 4 quartiles\n",
    "plt.axvline(x=0,linestyle='--',color='k',alpha=0.5)\n",
    "plt.axhline(y=0,linestyle='--',color='k',alpha=0.5)\n",
    "\n",
    "# plot moran's I\n",
    "x = np.linspace(-5,20,100)\n",
    "y = moransI*x\n",
    "plt.plot(x,y,color='red')\n",
    "\n",
    "# layout\n",
    "plt.title(f'Moran\\'s I: {moransI:.4f}')\n",
    "plt.xlabel('Views')\n",
    "plt.ylabel('W_Views')"
   ]
  },
  {
   "cell_type": "code",
   "execution_count": 127,
   "metadata": {},
   "outputs": [
    {
     "data": {
      "text/html": [
       "<div>\n",
       "<style scoped>\n",
       "    .dataframe tbody tr th:only-of-type {\n",
       "        vertical-align: middle;\n",
       "    }\n",
       "\n",
       "    .dataframe tbody tr th {\n",
       "        vertical-align: top;\n",
       "    }\n",
       "\n",
       "    .dataframe thead th {\n",
       "        text-align: right;\n",
       "    }\n",
       "</style>\n",
       "<table border=\"1\" class=\"dataframe\">\n",
       "  <thead>\n",
       "    <tr style=\"text-align: right;\">\n",
       "      <th></th>\n",
       "      <th>Title</th>\n",
       "      <th>LISA</th>\n",
       "      <th>E(Ii)</th>\n",
       "      <th>VAR(Ii)</th>\n",
       "      <th>Z Score</th>\n",
       "    </tr>\n",
       "  </thead>\n",
       "  <tbody>\n",
       "    <tr>\n",
       "      <th>1346</th>\n",
       "      <td>Your body language may shape who you are</td>\n",
       "      <td>44.8469</td>\n",
       "      <td>-0.000392311</td>\n",
       "      <td>0.947312</td>\n",
       "      <td>46.077624</td>\n",
       "    </tr>\n",
       "    <tr>\n",
       "      <th>5</th>\n",
       "      <td>Why we do what we do</td>\n",
       "      <td>20.3267</td>\n",
       "      <td>-0.000392311</td>\n",
       "      <td>0.95619</td>\n",
       "      <td>20.787508</td>\n",
       "    </tr>\n",
       "    <tr>\n",
       "      <th>677</th>\n",
       "      <td>How great leaders inspire action</td>\n",
       "      <td>20.0033</td>\n",
       "      <td>-0.000457696</td>\n",
       "      <td>0.951929</td>\n",
       "      <td>20.502650</td>\n",
       "    </tr>\n",
       "    <tr>\n",
       "      <th>381</th>\n",
       "      <td>Your elusive creative genius</td>\n",
       "      <td>15.7676</td>\n",
       "      <td>-0.000392311</td>\n",
       "      <td>0.957467</td>\n",
       "      <td>16.114454</td>\n",
       "    </tr>\n",
       "    <tr>\n",
       "      <th>1163</th>\n",
       "      <td>The power of introverts</td>\n",
       "      <td>15.721</td>\n",
       "      <td>-0.000392311</td>\n",
       "      <td>0.956791</td>\n",
       "      <td>16.072474</td>\n",
       "    </tr>\n",
       "    <tr>\n",
       "      <th>47</th>\n",
       "      <td>8 secrets of success</td>\n",
       "      <td>14.9305</td>\n",
       "      <td>-0.000392311</td>\n",
       "      <td>0.957725</td>\n",
       "      <td>15.256909</td>\n",
       "    </tr>\n",
       "    <tr>\n",
       "      <th>837</th>\n",
       "      <td>The power of vulnerability</td>\n",
       "      <td>11.2986</td>\n",
       "      <td>-0.000392311</td>\n",
       "      <td>0.95315</td>\n",
       "      <td>11.573392</td>\n",
       "    </tr>\n",
       "    <tr>\n",
       "      <th>0</th>\n",
       "      <td>Do schools kill creativity?</td>\n",
       "      <td>9.69616</td>\n",
       "      <td>-0.000392311</td>\n",
       "      <td>0.944557</td>\n",
       "      <td>9.977070</td>\n",
       "    </tr>\n",
       "    <tr>\n",
       "      <th>1129</th>\n",
       "      <td>The happy secret to better work</td>\n",
       "      <td>9.27947</td>\n",
       "      <td>-0.000392311</td>\n",
       "      <td>0.957031</td>\n",
       "      <td>9.485895</td>\n",
       "    </tr>\n",
       "    <tr>\n",
       "      <th>1493</th>\n",
       "      <td>Every kid needs a champion</td>\n",
       "      <td>8.40643</td>\n",
       "      <td>-0.000392311</td>\n",
       "      <td>0.957996</td>\n",
       "      <td>8.589149</td>\n",
       "    </tr>\n",
       "    <tr>\n",
       "      <th>1885</th>\n",
       "      <td>The power of believing that you can improve</td>\n",
       "      <td>7.79089</td>\n",
       "      <td>-0.000392311</td>\n",
       "      <td>0.958047</td>\n",
       "      <td>7.960046</td>\n",
       "    </tr>\n",
       "    <tr>\n",
       "      <th>1916</th>\n",
       "      <td>Why we all need to practice emotional first aid</td>\n",
       "      <td>7.5996</td>\n",
       "      <td>-0.000392311</td>\n",
       "      <td>0.958116</td>\n",
       "      <td>7.764329</td>\n",
       "    </tr>\n",
       "    <tr>\n",
       "      <th>1030</th>\n",
       "      <td>How to live before you die</td>\n",
       "      <td>7.25339</td>\n",
       "      <td>-0.000196155</td>\n",
       "      <td>0.957878</td>\n",
       "      <td>7.411357</td>\n",
       "    </tr>\n",
       "    <tr>\n",
       "      <th>1579</th>\n",
       "      <td>The art of misdirection</td>\n",
       "      <td>7.12826</td>\n",
       "      <td>-0.000392311</td>\n",
       "      <td>0.957175</td>\n",
       "      <td>7.286377</td>\n",
       "    </tr>\n",
       "    <tr>\n",
       "      <th>692</th>\n",
       "      <td>Bring on the learning revolution!</td>\n",
       "      <td>7.08943</td>\n",
       "      <td>-0.000392311</td>\n",
       "      <td>0.958008</td>\n",
       "      <td>7.243544</td>\n",
       "    </tr>\n",
       "    <tr>\n",
       "      <th>1572</th>\n",
       "      <td>How to make stress your friend</td>\n",
       "      <td>7.05707</td>\n",
       "      <td>-0.000392311</td>\n",
       "      <td>0.957279</td>\n",
       "      <td>7.213225</td>\n",
       "    </tr>\n",
       "    <tr>\n",
       "      <th>1036</th>\n",
       "      <td>How to spot a liar</td>\n",
       "      <td>6.99775</td>\n",
       "      <td>-0.000392311</td>\n",
       "      <td>0.956924</td>\n",
       "      <td>7.153919</td>\n",
       "    </tr>\n",
       "    <tr>\n",
       "      <th>596</th>\n",
       "      <td>How I held my breath for 17 minutes</td>\n",
       "      <td>6.57048</td>\n",
       "      <td>-0.000392311</td>\n",
       "      <td>0.957127</td>\n",
       "      <td>6.716422</td>\n",
       "    </tr>\n",
       "    <tr>\n",
       "      <th>1502</th>\n",
       "      <td>How to escape education's death valley</td>\n",
       "      <td>6.4517</td>\n",
       "      <td>-0.000392311</td>\n",
       "      <td>0.958042</td>\n",
       "      <td>6.591868</td>\n",
       "    </tr>\n",
       "    <tr>\n",
       "      <th>1177</th>\n",
       "      <td>Listening to shame</td>\n",
       "      <td>6.44759</td>\n",
       "      <td>-0.000392311</td>\n",
       "      <td>0.957962</td>\n",
       "      <td>6.587943</td>\n",
       "    </tr>\n",
       "    <tr>\n",
       "      <th>452</th>\n",
       "      <td>10 things you didn't know about orgasm</td>\n",
       "      <td>6.29452</td>\n",
       "      <td>-0.000392311</td>\n",
       "      <td>0.955831</td>\n",
       "      <td>6.438713</td>\n",
       "    </tr>\n",
       "    <tr>\n",
       "      <th>2161</th>\n",
       "      <td>Inside the mind of a master procrastinator</td>\n",
       "      <td>6.25468</td>\n",
       "      <td>-0.000392311</td>\n",
       "      <td>0.957254</td>\n",
       "      <td>6.393207</td>\n",
       "    </tr>\n",
       "    <tr>\n",
       "      <th>1747</th>\n",
       "      <td>Why good leaders make you feel safe</td>\n",
       "      <td>5.86873</td>\n",
       "      <td>-0.000392311</td>\n",
       "      <td>0.958034</td>\n",
       "      <td>5.996295</td>\n",
       "    </tr>\n",
       "    <tr>\n",
       "      <th>1951</th>\n",
       "      <td>5 ways to kill your dreams</td>\n",
       "      <td>5.01705</td>\n",
       "      <td>-0.000392311</td>\n",
       "      <td>0.958124</td>\n",
       "      <td>5.125914</td>\n",
       "    </tr>\n",
       "    <tr>\n",
       "      <th>413</th>\n",
       "      <td>The difference between winning and succeeding</td>\n",
       "      <td>4.77551</td>\n",
       "      <td>-0.000392311</td>\n",
       "      <td>0.958119</td>\n",
       "      <td>4.879169</td>\n",
       "    </tr>\n",
       "    <tr>\n",
       "      <th>2109</th>\n",
       "      <td>What makes a good life? Lessons from the longe...</td>\n",
       "      <td>4.73215</td>\n",
       "      <td>-0.000392311</td>\n",
       "      <td>0.956967</td>\n",
       "      <td>4.837783</td>\n",
       "    </tr>\n",
       "    <tr>\n",
       "      <th>1501</th>\n",
       "      <td>Grit: The power of passion and perseverance</td>\n",
       "      <td>4.01793</td>\n",
       "      <td>-0.000392311</td>\n",
       "      <td>0.957599</td>\n",
       "      <td>4.106319</td>\n",
       "    </tr>\n",
       "    <tr>\n",
       "      <th>171</th>\n",
       "      <td>5 dangerous things you should let your kids do</td>\n",
       "      <td>3.98465</td>\n",
       "      <td>-0.000392311</td>\n",
       "      <td>0.958135</td>\n",
       "      <td>4.071174</td>\n",
       "    </tr>\n",
       "    <tr>\n",
       "      <th>492</th>\n",
       "      <td>A kinder, gentler philosophy of success</td>\n",
       "      <td>3.98273</td>\n",
       "      <td>-0.000392311</td>\n",
       "      <td>0.958084</td>\n",
       "      <td>4.069323</td>\n",
       "    </tr>\n",
       "    <tr>\n",
       "      <th>500</th>\n",
       "      <td>The puzzle of motivation</td>\n",
       "      <td>3.80081</td>\n",
       "      <td>-0.000392311</td>\n",
       "      <td>0.956569</td>\n",
       "      <td>3.886536</td>\n",
       "    </tr>\n",
       "    <tr>\n",
       "      <th>317</th>\n",
       "      <td>Flow, the secret to happiness</td>\n",
       "      <td>3.79209</td>\n",
       "      <td>-0.000392311</td>\n",
       "      <td>0.958145</td>\n",
       "      <td>3.874434</td>\n",
       "    </tr>\n",
       "    <tr>\n",
       "      <th>2131</th>\n",
       "      <td>A simple way to break a bad habit</td>\n",
       "      <td>3.78205</td>\n",
       "      <td>-0.000392311</td>\n",
       "      <td>0.957954</td>\n",
       "      <td>3.864557</td>\n",
       "    </tr>\n",
       "    <tr>\n",
       "      <th>553</th>\n",
       "      <td>The thrilling potential of SixthSense technology</td>\n",
       "      <td>3.77706</td>\n",
       "      <td>-0.000392311</td>\n",
       "      <td>0.957049</td>\n",
       "      <td>3.861287</td>\n",
       "    </tr>\n",
       "    <tr>\n",
       "      <th>2273</th>\n",
       "      <td>The agony of trying to unsubscribe</td>\n",
       "      <td>3.7766</td>\n",
       "      <td>-0.000392311</td>\n",
       "      <td>0.958087</td>\n",
       "      <td>3.858721</td>\n",
       "    </tr>\n",
       "    <tr>\n",
       "      <th>819</th>\n",
       "      <td>Why work doesn't happen at work</td>\n",
       "      <td>3.74209</td>\n",
       "      <td>-0.000392311</td>\n",
       "      <td>0.958118</td>\n",
       "      <td>3.823409</td>\n",
       "    </tr>\n",
       "    <tr>\n",
       "      <th>67</th>\n",
       "      <td>How to get your ideas to spread</td>\n",
       "      <td>3.74113</td>\n",
       "      <td>-0.000392311</td>\n",
       "      <td>0.958093</td>\n",
       "      <td>3.822475</td>\n",
       "    </tr>\n",
       "    <tr>\n",
       "      <th>262</th>\n",
       "      <td>Brain magic</td>\n",
       "      <td>3.73339</td>\n",
       "      <td>-0.000392311</td>\n",
       "      <td>0.957445</td>\n",
       "      <td>3.815854</td>\n",
       "    </tr>\n",
       "    <tr>\n",
       "      <th>2174</th>\n",
       "      <td>The surprising habits of original thinkers</td>\n",
       "      <td>3.64921</td>\n",
       "      <td>-0.000392311</td>\n",
       "      <td>0.958051</td>\n",
       "      <td>3.728648</td>\n",
       "    </tr>\n",
       "    <tr>\n",
       "      <th>401</th>\n",
       "      <td>Meet the SixthSense interaction</td>\n",
       "      <td>3.64569</td>\n",
       "      <td>-0.000392311</td>\n",
       "      <td>0.957826</td>\n",
       "      <td>3.725492</td>\n",
       "    </tr>\n",
       "    <tr>\n",
       "      <th>1981</th>\n",
       "      <td>Rethinking infidelity ... a talk for anyone wh...</td>\n",
       "      <td>3.58543</td>\n",
       "      <td>-0.000392311</td>\n",
       "      <td>0.957946</td>\n",
       "      <td>3.663690</td>\n",
       "    </tr>\n",
       "    <tr>\n",
       "      <th>469</th>\n",
       "      <td>Success is a continuous journey</td>\n",
       "      <td>3.57651</td>\n",
       "      <td>-0.000392311</td>\n",
       "      <td>0.958153</td>\n",
       "      <td>3.654182</td>\n",
       "    </tr>\n",
       "    <tr>\n",
       "      <th>168</th>\n",
       "      <td>A performance of \"Mathemagic\"</td>\n",
       "      <td>3.17693</td>\n",
       "      <td>-0.000392311</td>\n",
       "      <td>0.957936</td>\n",
       "      <td>3.246328</td>\n",
       "    </tr>\n",
       "    <tr>\n",
       "      <th>1836</th>\n",
       "      <td>Why thinking you're ugly is bad for you</td>\n",
       "      <td>2.95802</td>\n",
       "      <td>-0.000392311</td>\n",
       "      <td>0.958154</td>\n",
       "      <td>3.022324</td>\n",
       "    </tr>\n",
       "    <tr>\n",
       "      <th>28</th>\n",
       "      <td>Choice, happiness and spaghetti sauce</td>\n",
       "      <td>2.9455</td>\n",
       "      <td>-0.000392311</td>\n",
       "      <td>0.958022</td>\n",
       "      <td>3.009737</td>\n",
       "    </tr>\n",
       "    <tr>\n",
       "      <th>2076</th>\n",
       "      <td>How to stay calm when you know you'll be stressed</td>\n",
       "      <td>2.78672</td>\n",
       "      <td>-0.000392311</td>\n",
       "      <td>0.957875</td>\n",
       "      <td>2.847742</td>\n",
       "    </tr>\n",
       "    <tr>\n",
       "      <th>2206</th>\n",
       "      <td>Can you really tell if a kid is lying?</td>\n",
       "      <td>2.7799</td>\n",
       "      <td>-0.000392311</td>\n",
       "      <td>0.958055</td>\n",
       "      <td>2.840502</td>\n",
       "    </tr>\n",
       "    <tr>\n",
       "      <th>1001</th>\n",
       "      <td>The magic of truth and lies (and iPods)</td>\n",
       "      <td>2.76046</td>\n",
       "      <td>-0.000392311</td>\n",
       "      <td>0.958098</td>\n",
       "      <td>2.820573</td>\n",
       "    </tr>\n",
       "    <tr>\n",
       "      <th>23</th>\n",
       "      <td>Why we love, why we cheat</td>\n",
       "      <td>2.75657</td>\n",
       "      <td>-0.000392311</td>\n",
       "      <td>0.957868</td>\n",
       "      <td>2.816945</td>\n",
       "    </tr>\n",
       "    <tr>\n",
       "      <th>2114</th>\n",
       "      <td>This is what happens when you reply to spam email</td>\n",
       "      <td>2.72246</td>\n",
       "      <td>-0.000392311</td>\n",
       "      <td>0.956235</td>\n",
       "      <td>2.784461</td>\n",
       "    </tr>\n",
       "    <tr>\n",
       "      <th>29</th>\n",
       "      <td>The surprising science of happiness</td>\n",
       "      <td>2.6159</td>\n",
       "      <td>-0.000392311</td>\n",
       "      <td>0.957262</td>\n",
       "      <td>2.674057</td>\n",
       "    </tr>\n",
       "    <tr>\n",
       "      <th>1633</th>\n",
       "      <td>Want to be happy? Be grateful</td>\n",
       "      <td>2.55884</td>\n",
       "      <td>-0.000392311</td>\n",
       "      <td>0.95808</td>\n",
       "      <td>2.614627</td>\n",
       "    </tr>\n",
       "    <tr>\n",
       "      <th>919</th>\n",
       "      <td>3 things I learned while my plane crashed</td>\n",
       "      <td>2.36085</td>\n",
       "      <td>-0.000392311</td>\n",
       "      <td>0.958043</td>\n",
       "      <td>2.412388</td>\n",
       "    </tr>\n",
       "    <tr>\n",
       "      <th>263</th>\n",
       "      <td>The new era of positive psychology</td>\n",
       "      <td>2.35263</td>\n",
       "      <td>-0.000392311</td>\n",
       "      <td>0.95814</td>\n",
       "      <td>2.403873</td>\n",
       "    </tr>\n",
       "    <tr>\n",
       "      <th>1651</th>\n",
       "      <td>I got 99 problems ... palsy is just one</td>\n",
       "      <td>2.30471</td>\n",
       "      <td>-0.000392311</td>\n",
       "      <td>0.957898</td>\n",
       "      <td>2.355216</td>\n",
       "    </tr>\n",
       "    <tr>\n",
       "      <th>1436</th>\n",
       "      <td>The secret to desire in a long-term relationship</td>\n",
       "      <td>2.14727</td>\n",
       "      <td>-0.000392311</td>\n",
       "      <td>0.957756</td>\n",
       "      <td>2.194516</td>\n",
       "    </tr>\n",
       "    <tr>\n",
       "      <th>2347</th>\n",
       "      <td>How to gain control of your free time</td>\n",
       "      <td>2.02005</td>\n",
       "      <td>-0.000392311</td>\n",
       "      <td>0.95812</td>\n",
       "      <td>2.064126</td>\n",
       "    </tr>\n",
       "  </tbody>\n",
       "</table>\n",
       "</div>"
      ],
      "text/plain": [
       "                                                  Title     LISA        E(Ii)  \\\n",
       "1346           Your body language may shape who you are  44.8469 -0.000392311   \n",
       "5                                  Why we do what we do  20.3267 -0.000392311   \n",
       "677                    How great leaders inspire action  20.0033 -0.000457696   \n",
       "381                        Your elusive creative genius  15.7676 -0.000392311   \n",
       "1163                            The power of introverts   15.721 -0.000392311   \n",
       "47                                 8 secrets of success  14.9305 -0.000392311   \n",
       "837                          The power of vulnerability  11.2986 -0.000392311   \n",
       "0                           Do schools kill creativity?  9.69616 -0.000392311   \n",
       "1129                    The happy secret to better work  9.27947 -0.000392311   \n",
       "1493                         Every kid needs a champion  8.40643 -0.000392311   \n",
       "1885        The power of believing that you can improve  7.79089 -0.000392311   \n",
       "1916    Why we all need to practice emotional first aid   7.5996 -0.000392311   \n",
       "1030                         How to live before you die  7.25339 -0.000196155   \n",
       "1579                            The art of misdirection  7.12826 -0.000392311   \n",
       "692                   Bring on the learning revolution!  7.08943 -0.000392311   \n",
       "1572                     How to make stress your friend  7.05707 -0.000392311   \n",
       "1036                                 How to spot a liar  6.99775 -0.000392311   \n",
       "596                 How I held my breath for 17 minutes  6.57048 -0.000392311   \n",
       "1502             How to escape education's death valley   6.4517 -0.000392311   \n",
       "1177                                 Listening to shame  6.44759 -0.000392311   \n",
       "452              10 things you didn't know about orgasm  6.29452 -0.000392311   \n",
       "2161         Inside the mind of a master procrastinator  6.25468 -0.000392311   \n",
       "1747                Why good leaders make you feel safe  5.86873 -0.000392311   \n",
       "1951                         5 ways to kill your dreams  5.01705 -0.000392311   \n",
       "413       The difference between winning and succeeding  4.77551 -0.000392311   \n",
       "2109  What makes a good life? Lessons from the longe...  4.73215 -0.000392311   \n",
       "1501        Grit: The power of passion and perseverance  4.01793 -0.000392311   \n",
       "171      5 dangerous things you should let your kids do  3.98465 -0.000392311   \n",
       "492             A kinder, gentler philosophy of success  3.98273 -0.000392311   \n",
       "500                            The puzzle of motivation  3.80081 -0.000392311   \n",
       "317                       Flow, the secret to happiness  3.79209 -0.000392311   \n",
       "2131                  A simple way to break a bad habit  3.78205 -0.000392311   \n",
       "553    The thrilling potential of SixthSense technology  3.77706 -0.000392311   \n",
       "2273                 The agony of trying to unsubscribe   3.7766 -0.000392311   \n",
       "819                     Why work doesn't happen at work  3.74209 -0.000392311   \n",
       "67                      How to get your ideas to spread  3.74113 -0.000392311   \n",
       "262                                         Brain magic  3.73339 -0.000392311   \n",
       "2174         The surprising habits of original thinkers  3.64921 -0.000392311   \n",
       "401                     Meet the SixthSense interaction  3.64569 -0.000392311   \n",
       "1981  Rethinking infidelity ... a talk for anyone wh...  3.58543 -0.000392311   \n",
       "469                     Success is a continuous journey  3.57651 -0.000392311   \n",
       "168                       A performance of \"Mathemagic\"  3.17693 -0.000392311   \n",
       "1836            Why thinking you're ugly is bad for you  2.95802 -0.000392311   \n",
       "28                Choice, happiness and spaghetti sauce   2.9455 -0.000392311   \n",
       "2076  How to stay calm when you know you'll be stressed  2.78672 -0.000392311   \n",
       "2206             Can you really tell if a kid is lying?   2.7799 -0.000392311   \n",
       "1001            The magic of truth and lies (and iPods)  2.76046 -0.000392311   \n",
       "23                            Why we love, why we cheat  2.75657 -0.000392311   \n",
       "2114  This is what happens when you reply to spam email  2.72246 -0.000392311   \n",
       "29                  The surprising science of happiness   2.6159 -0.000392311   \n",
       "1633                      Want to be happy? Be grateful  2.55884 -0.000392311   \n",
       "919           3 things I learned while my plane crashed  2.36085 -0.000392311   \n",
       "263                  The new era of positive psychology  2.35263 -0.000392311   \n",
       "1651            I got 99 problems ... palsy is just one  2.30471 -0.000392311   \n",
       "1436   The secret to desire in a long-term relationship  2.14727 -0.000392311   \n",
       "2347              How to gain control of your free time  2.02005 -0.000392311   \n",
       "\n",
       "       VAR(Ii)    Z Score  \n",
       "1346  0.947312  46.077624  \n",
       "5      0.95619  20.787508  \n",
       "677   0.951929  20.502650  \n",
       "381   0.957467  16.114454  \n",
       "1163  0.956791  16.072474  \n",
       "47    0.957725  15.256909  \n",
       "837    0.95315  11.573392  \n",
       "0     0.944557   9.977070  \n",
       "1129  0.957031   9.485895  \n",
       "1493  0.957996   8.589149  \n",
       "1885  0.958047   7.960046  \n",
       "1916  0.958116   7.764329  \n",
       "1030  0.957878   7.411357  \n",
       "1579  0.957175   7.286377  \n",
       "692   0.958008   7.243544  \n",
       "1572  0.957279   7.213225  \n",
       "1036  0.956924   7.153919  \n",
       "596   0.957127   6.716422  \n",
       "1502  0.958042   6.591868  \n",
       "1177  0.957962   6.587943  \n",
       "452   0.955831   6.438713  \n",
       "2161  0.957254   6.393207  \n",
       "1747  0.958034   5.996295  \n",
       "1951  0.958124   5.125914  \n",
       "413   0.958119   4.879169  \n",
       "2109  0.956967   4.837783  \n",
       "1501  0.957599   4.106319  \n",
       "171   0.958135   4.071174  \n",
       "492   0.958084   4.069323  \n",
       "500   0.956569   3.886536  \n",
       "317   0.958145   3.874434  \n",
       "2131  0.957954   3.864557  \n",
       "553   0.957049   3.861287  \n",
       "2273  0.958087   3.858721  \n",
       "819   0.958118   3.823409  \n",
       "67    0.958093   3.822475  \n",
       "262   0.957445   3.815854  \n",
       "2174  0.958051   3.728648  \n",
       "401   0.957826   3.725492  \n",
       "1981  0.957946   3.663690  \n",
       "469   0.958153   3.654182  \n",
       "168   0.957936   3.246328  \n",
       "1836  0.958154   3.022324  \n",
       "28    0.958022   3.009737  \n",
       "2076  0.957875   2.847742  \n",
       "2206  0.958055   2.840502  \n",
       "1001  0.958098   2.820573  \n",
       "23    0.957868   2.816945  \n",
       "2114  0.956235   2.784461  \n",
       "29    0.957262   2.674057  \n",
       "1633   0.95808   2.614627  \n",
       "919   0.958043   2.412388  \n",
       "263    0.95814   2.403873  \n",
       "1651  0.957898   2.355216  \n",
       "1436  0.957756   2.194516  \n",
       "2347   0.95812   2.064126  "
      ]
     },
     "execution_count": 127,
     "metadata": {},
     "output_type": "execute_result"
    }
   ],
   "source": [
    "Ii_results[(abs(Ii_results['Z Score'])>=2)].loc[Ii_results.LISA>0].sort_values(by='LISA',ascending=False)"
   ]
  },
  {
   "cell_type": "markdown",
   "metadata": {},
   "source": [
    "#### Clustered by unsupervised learning"
   ]
  },
  {
   "cell_type": "code",
   "execution_count": 110,
   "metadata": {},
   "outputs": [
    {
     "data": {
      "image/png": "[encoded data removed]",
      "text/plain": [
       "<Figure size 720x288 with 1 Axes>"
      ]
     },
     "metadata": {
      "needs_background": "light"
     },
     "output_type": "display_data"
    }
   ],
   "source": [
    "def plot_dendrogram(model, **kwargs):\n",
    "    \n",
    "    # Create linkage matrix and then plot the dendrogram\n",
    "\n",
    "    # create the counts of samples under each node\n",
    "    counts = np.zeros(model.children_.shape[0])\n",
    "    n_samples = len(model.labels_)\n",
    "    for i, merge in enumerate(model.children_):\n",
    "        current_count = 0\n",
    "        for child_idx in merge:\n",
    "            if child_idx < n_samples:\n",
    "                current_count += 1  # leaf node\n",
    "            else:\n",
    "                current_count += counts[child_idx - n_samples]\n",
    "        counts[i] = current_count\n",
    "\n",
    "    linkage_matrix = np.column_stack(\n",
    "        [model.children_, model.distances_, counts]\n",
    "    ).astype(float)\n",
    "    \n",
    "    # Plot the corresponding dendrogram\n",
    "    dendrogram(linkage_matrix, **kwargs)\n",
    "    \n",
    "# setting distance_threshold=0 ensures we compute the full tree.\n",
    "model = AgglomerativeClustering(distance_threshold=0, n_clusters=None)\n",
    "\n",
    "model = model.fit(lisa)\n",
    "\n",
    "plt.figure(figsize=(10, 4))\n",
    "plt.title(\"Hierarchical Clustering Dendrogram\")\n",
    "plt.axhline(y=40,linestyle='--',color='k',alpha=0.5)\n",
    "# plot the top three levels of the dendrogram\n",
    "plot_dendrogram(model, truncate_mode=\"level\", p=3)\n",
    "plt.xlabel(\"Number of points in node (or index of point if no parenthesis).\")\n",
    "plt.show()"
   ]
  },
  {
   "cell_type": "code",
   "execution_count": 120,
   "metadata": {},
   "outputs": [],
   "source": [
    "# setting distance_threshold=0 ensures we compute the full tree.\n",
    "model = AgglomerativeClustering(distance_threshold=40, n_clusters=None)\n",
    "\n",
    "pred = model.fit_predict(lisa)"
   ]
  },
  {
   "cell_type": "code",
   "execution_count": 121,
   "metadata": {},
   "outputs": [
    {
     "data": {
      "text/plain": [
       "Text(0, 0.5, 'W_Views')"
      ]
     },
     "execution_count": 121,
     "metadata": {},
     "output_type": "execute_result"
    },
    {
     "data": {
      "image/png": "[encoded data removed]",
      "text/plain": [
       "<Figure size 432x288 with 1 Axes>"
      ]
     },
     "metadata": {
      "needs_background": "light"
     },
     "output_type": "display_data"
    }
   ],
   "source": [
    "# plot different regions: High-High, High-Low, Low-High, Low-Low\n",
    "plt.scatter(normalized_views[np.where(pred!=2)],normalized_avg_list[np.where(pred!=2)],\n",
    "            color='red',alpha=0.5)\n",
    "plt.scatter(normalized_views[np.where(pred==2)],normalized_avg_list[np.where(pred==2)],\n",
    "            color='gray',alpha=0.2)\n",
    "\n",
    "# separate the graph into 4 quartiles\n",
    "plt.axvline(x=0,linestyle='--',color='k',alpha=0.5)\n",
    "plt.axhline(y=0,linestyle='--',color='k',alpha=0.5)\n",
    "\n",
    "# plot moran's I\n",
    "x = np.linspace(-3,20,100)\n",
    "y = moransI*x\n",
    "plt.plot(x,y,color='red')\n",
    "\n",
    "# layout\n",
    "plt.title(f'Moran\\'s I: {moransI:.4f}')\n",
    "plt.xlim([-3,20])\n",
    "plt.ylim([-3,20])\n",
    "plt.xlabel('Views')\n",
    "plt.ylabel('W_Views')"
   ]
  },
  {
   "cell_type": "code",
   "execution_count": 122,
   "metadata": {},
   "outputs": [],
   "source": [
    "hh_groups = pd.DataFrame([df.title.values[np.where(pred!=2)],lisa[np.where(pred!=2)].reshape(-1)]).T\n",
    "hh_groups.columns = ['Title', 'Lisa']\n",
    "hh_groups = hh_groups.sort_values(by='Lisa',ascending=True)"
   ]
  },
  {
   "cell_type": "code",
   "execution_count": 123,
   "metadata": {
    "scrolled": false
   },
   "outputs": [
    {
     "data": {
      "image/png": "[encoded data removed]",
      "text/plain": [
       "<Figure size 1080x720 with 1 Axes>"
      ]
     },
     "metadata": {
      "needs_background": "light"
     },
     "output_type": "display_data"
    }
   ],
   "source": [
    "fig, ax = plt.subplots()\n",
    "hh_groups.plot.barh(figsize=(15,10),ax=ax)\n",
    "plt.yticks(range(0,54), hh_groups.Title)\n",
    "plt.show()"
   ]
  },
  {
   "cell_type": "code",
   "execution_count": 124,
   "metadata": {},
   "outputs": [
    {
     "data": {
      "image/png": "[encoded data removed]",
      "text/plain": [
       "<Figure size 2160x2160 with 9 Axes>"
      ]
     },
     "metadata": {
      "needs_background": "light"
     },
     "output_type": "display_data"
    }
   ],
   "source": [
    "tmp_df = hh_groups.sort_values(by='Lisa',ascending=False)\n",
    "\n",
    "fig = plt.figure(figsize=(30,30))\n",
    "\n",
    "for i in range(9):\n",
    "    ax = fig.add_subplot(3,3,i+1)\n",
    "    \n",
    "    lisa_title = tmp_df.iloc[i].Title\n",
    "    lisa_for_title = tmp_df.iloc[i].Lisa\n",
    "    \n",
    "    titles, views, colors = [lisa_title], [], ['red']\n",
    "    \n",
    "    for talk in df[df.title==lisa_title].related_talks.values[0]:\n",
    "        titles.append(talk['title']) \n",
    "        colors.append('gray')\n",
    "        \n",
    "    for j, title in enumerate(titles):\n",
    "        views.append(df[df.title==title].views.values[0])\n",
    "        globals()[f'ax_{j}'] = ax.bar(j,views[-1],color=colors[j])\n",
    "    \n",
    "    titles.append('Median views')\n",
    "    views.append(df.views.median())\n",
    "    colors.append('blue')\n",
    "    \n",
    "    globals()[f'ax_{j+1}'] = ax.bar(j+1,views[-1],color='blue')\n",
    "    \n",
    "    \n",
    "#     ax.bar(titles, views, color=colors)\n",
    "    ax.set_title(f'{lisa_title}: {lisa_for_title:.2f}')\n",
    "    ax.set_xticks([])\n",
    "    ax.set_ylabel('Views')\n",
    "    ax.set_ylim([0,df.views.max()+1000000])\n",
    "    plt.legend(handles=[ax_0, ax_1, globals()[f'ax_{j+1}']],\n",
    "               labels = ['The title in High-High Cluster', 'Talks in related list', 'Median'])"
   ]
  }
 ],
 "metadata": {
  "kernelspec": {
   "display_name": "Python 3",
   "language": "python",
   "name": "python3"
  },
  "language_info": {
   "codemirror_mode": {
    "name": "ipython",
    "version": 3
   },
   "file_extension": ".py",
   "mimetype": "text/x-python",
   "name": "python",
   "nbconvert_exporter": "python",
   "pygments_lexer": "ipython3",
   "version": "3.8.5"
  }
 },
 "nbformat": 4,
 "nbformat_minor": 4
}
