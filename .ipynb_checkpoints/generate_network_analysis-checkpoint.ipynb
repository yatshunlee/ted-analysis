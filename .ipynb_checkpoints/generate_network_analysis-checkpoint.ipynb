{
 "cells": [
  {
   "cell_type": "code",
   "execution_count": 112,
   "metadata": {},
   "outputs": [],
   "source": [
    "import numpy as np\n",
    "import pandas as pd\n",
    "import matplotlib.pyplot as plt\n",
    "import seaborn as sns\n",
    "\n",
    "from pysal.model import spreg\n",
    "from pysal.lib import weights\n",
    "from pysal.explore import esda\n",
    "from scipy import stats\n",
    "import statsmodels.api as sm\n",
    "# import statsmodels.formula.api as sm\n",
    "\n",
    "from scipy.sparse import csr_matrix\n",
    "from sklearn.neighbors import NearestNeighbors"
   ]
  },
  {
   "cell_type": "code",
   "execution_count": 113,
   "metadata": {},
   "outputs": [],
   "source": [
    "df = pd.read_csv('ted_main.csv')"
   ]
  },
  {
   "cell_type": "code",
   "execution_count": 114,
   "metadata": {},
   "outputs": [
    {
     "data": {
      "text/html": [
       "<div>\n",
       "<style scoped>\n",
       "    .dataframe tbody tr th:only-of-type {\n",
       "        vertical-align: middle;\n",
       "    }\n",
       "\n",
       "    .dataframe tbody tr th {\n",
       "        vertical-align: top;\n",
       "    }\n",
       "\n",
       "    .dataframe thead th {\n",
       "        text-align: right;\n",
       "    }\n",
       "</style>\n",
       "<table border=\"1\" class=\"dataframe\">\n",
       "  <thead>\n",
       "    <tr style=\"text-align: right;\">\n",
       "      <th></th>\n",
       "      <th>comments</th>\n",
       "      <th>description</th>\n",
       "      <th>duration</th>\n",
       "      <th>event</th>\n",
       "      <th>film_date</th>\n",
       "      <th>languages</th>\n",
       "      <th>main_speaker</th>\n",
       "      <th>name</th>\n",
       "      <th>num_speaker</th>\n",
       "      <th>published_date</th>\n",
       "      <th>ratings</th>\n",
       "      <th>related_talks</th>\n",
       "      <th>speaker_occupation</th>\n",
       "      <th>tags</th>\n",
       "      <th>title</th>\n",
       "      <th>url</th>\n",
       "      <th>views</th>\n",
       "    </tr>\n",
       "  </thead>\n",
       "  <tbody>\n",
       "    <tr>\n",
       "      <th>0</th>\n",
       "      <td>4553</td>\n",
       "      <td>Sir Ken Robinson makes an entertaining and pro...</td>\n",
       "      <td>1164</td>\n",
       "      <td>TED2006</td>\n",
       "      <td>1140825600</td>\n",
       "      <td>60</td>\n",
       "      <td>Ken Robinson</td>\n",
       "      <td>Ken Robinson: Do schools kill creativity?</td>\n",
       "      <td>1</td>\n",
       "      <td>1151367060</td>\n",
       "      <td>[{'id': 7, 'name': 'Funny', 'count': 19645}, {...</td>\n",
       "      <td>[{'id': 865, 'hero': 'https://pe.tedcdn.com/im...</td>\n",
       "      <td>Author/educator</td>\n",
       "      <td>['children', 'creativity', 'culture', 'dance',...</td>\n",
       "      <td>Do schools kill creativity?</td>\n",
       "      <td>https://www.ted.com/talks/ken_robinson_says_sc...</td>\n",
       "      <td>47227110</td>\n",
       "    </tr>\n",
       "    <tr>\n",
       "      <th>1</th>\n",
       "      <td>265</td>\n",
       "      <td>With the same humor and humanity he exuded in ...</td>\n",
       "      <td>977</td>\n",
       "      <td>TED2006</td>\n",
       "      <td>1140825600</td>\n",
       "      <td>43</td>\n",
       "      <td>Al Gore</td>\n",
       "      <td>Al Gore: Averting the climate crisis</td>\n",
       "      <td>1</td>\n",
       "      <td>1151367060</td>\n",
       "      <td>[{'id': 7, 'name': 'Funny', 'count': 544}, {'i...</td>\n",
       "      <td>[{'id': 243, 'hero': 'https://pe.tedcdn.com/im...</td>\n",
       "      <td>Climate advocate</td>\n",
       "      <td>['alternative energy', 'cars', 'climate change...</td>\n",
       "      <td>Averting the climate crisis</td>\n",
       "      <td>https://www.ted.com/talks/al_gore_on_averting_...</td>\n",
       "      <td>3200520</td>\n",
       "    </tr>\n",
       "    <tr>\n",
       "      <th>2</th>\n",
       "      <td>124</td>\n",
       "      <td>New York Times columnist David Pogue takes aim...</td>\n",
       "      <td>1286</td>\n",
       "      <td>TED2006</td>\n",
       "      <td>1140739200</td>\n",
       "      <td>26</td>\n",
       "      <td>David Pogue</td>\n",
       "      <td>David Pogue: Simplicity sells</td>\n",
       "      <td>1</td>\n",
       "      <td>1151367060</td>\n",
       "      <td>[{'id': 7, 'name': 'Funny', 'count': 964}, {'i...</td>\n",
       "      <td>[{'id': 1725, 'hero': 'https://pe.tedcdn.com/i...</td>\n",
       "      <td>Technology columnist</td>\n",
       "      <td>['computers', 'entertainment', 'interface desi...</td>\n",
       "      <td>Simplicity sells</td>\n",
       "      <td>https://www.ted.com/talks/david_pogue_says_sim...</td>\n",
       "      <td>1636292</td>\n",
       "    </tr>\n",
       "    <tr>\n",
       "      <th>3</th>\n",
       "      <td>200</td>\n",
       "      <td>In an emotionally charged talk, MacArthur-winn...</td>\n",
       "      <td>1116</td>\n",
       "      <td>TED2006</td>\n",
       "      <td>1140912000</td>\n",
       "      <td>35</td>\n",
       "      <td>Majora Carter</td>\n",
       "      <td>Majora Carter: Greening the ghetto</td>\n",
       "      <td>1</td>\n",
       "      <td>1151367060</td>\n",
       "      <td>[{'id': 3, 'name': 'Courageous', 'count': 760}...</td>\n",
       "      <td>[{'id': 1041, 'hero': 'https://pe.tedcdn.com/i...</td>\n",
       "      <td>Activist for environmental justice</td>\n",
       "      <td>['MacArthur grant', 'activism', 'business', 'c...</td>\n",
       "      <td>Greening the ghetto</td>\n",
       "      <td>https://www.ted.com/talks/majora_carter_s_tale...</td>\n",
       "      <td>1697550</td>\n",
       "    </tr>\n",
       "    <tr>\n",
       "      <th>4</th>\n",
       "      <td>593</td>\n",
       "      <td>You've never seen data presented like this. Wi...</td>\n",
       "      <td>1190</td>\n",
       "      <td>TED2006</td>\n",
       "      <td>1140566400</td>\n",
       "      <td>48</td>\n",
       "      <td>Hans Rosling</td>\n",
       "      <td>Hans Rosling: The best stats you've ever seen</td>\n",
       "      <td>1</td>\n",
       "      <td>1151440680</td>\n",
       "      <td>[{'id': 9, 'name': 'Ingenious', 'count': 3202}...</td>\n",
       "      <td>[{'id': 2056, 'hero': 'https://pe.tedcdn.com/i...</td>\n",
       "      <td>Global health expert; data visionary</td>\n",
       "      <td>['Africa', 'Asia', 'Google', 'demo', 'economic...</td>\n",
       "      <td>The best stats you've ever seen</td>\n",
       "      <td>https://www.ted.com/talks/hans_rosling_shows_t...</td>\n",
       "      <td>12005869</td>\n",
       "    </tr>\n",
       "  </tbody>\n",
       "</table>\n",
       "</div>"
      ],
      "text/plain": [
       "   comments                                        description  duration  \\\n",
       "0      4553  Sir Ken Robinson makes an entertaining and pro...      1164   \n",
       "1       265  With the same humor and humanity he exuded in ...       977   \n",
       "2       124  New York Times columnist David Pogue takes aim...      1286   \n",
       "3       200  In an emotionally charged talk, MacArthur-winn...      1116   \n",
       "4       593  You've never seen data presented like this. Wi...      1190   \n",
       "\n",
       "     event   film_date  languages   main_speaker  \\\n",
       "0  TED2006  1140825600         60   Ken Robinson   \n",
       "1  TED2006  1140825600         43        Al Gore   \n",
       "2  TED2006  1140739200         26    David Pogue   \n",
       "3  TED2006  1140912000         35  Majora Carter   \n",
       "4  TED2006  1140566400         48   Hans Rosling   \n",
       "\n",
       "                                            name  num_speaker  published_date  \\\n",
       "0      Ken Robinson: Do schools kill creativity?            1      1151367060   \n",
       "1           Al Gore: Averting the climate crisis            1      1151367060   \n",
       "2                  David Pogue: Simplicity sells            1      1151367060   \n",
       "3             Majora Carter: Greening the ghetto            1      1151367060   \n",
       "4  Hans Rosling: The best stats you've ever seen            1      1151440680   \n",
       "\n",
       "                                             ratings  \\\n",
       "0  [{'id': 7, 'name': 'Funny', 'count': 19645}, {...   \n",
       "1  [{'id': 7, 'name': 'Funny', 'count': 544}, {'i...   \n",
       "2  [{'id': 7, 'name': 'Funny', 'count': 964}, {'i...   \n",
       "3  [{'id': 3, 'name': 'Courageous', 'count': 760}...   \n",
       "4  [{'id': 9, 'name': 'Ingenious', 'count': 3202}...   \n",
       "\n",
       "                                       related_talks  \\\n",
       "0  [{'id': 865, 'hero': 'https://pe.tedcdn.com/im...   \n",
       "1  [{'id': 243, 'hero': 'https://pe.tedcdn.com/im...   \n",
       "2  [{'id': 1725, 'hero': 'https://pe.tedcdn.com/i...   \n",
       "3  [{'id': 1041, 'hero': 'https://pe.tedcdn.com/i...   \n",
       "4  [{'id': 2056, 'hero': 'https://pe.tedcdn.com/i...   \n",
       "\n",
       "                     speaker_occupation  \\\n",
       "0                       Author/educator   \n",
       "1                      Climate advocate   \n",
       "2                  Technology columnist   \n",
       "3    Activist for environmental justice   \n",
       "4  Global health expert; data visionary   \n",
       "\n",
       "                                                tags  \\\n",
       "0  ['children', 'creativity', 'culture', 'dance',...   \n",
       "1  ['alternative energy', 'cars', 'climate change...   \n",
       "2  ['computers', 'entertainment', 'interface desi...   \n",
       "3  ['MacArthur grant', 'activism', 'business', 'c...   \n",
       "4  ['Africa', 'Asia', 'Google', 'demo', 'economic...   \n",
       "\n",
       "                             title  \\\n",
       "0      Do schools kill creativity?   \n",
       "1      Averting the climate crisis   \n",
       "2                 Simplicity sells   \n",
       "3              Greening the ghetto   \n",
       "4  The best stats you've ever seen   \n",
       "\n",
       "                                                 url     views  \n",
       "0  https://www.ted.com/talks/ken_robinson_says_sc...  47227110  \n",
       "1  https://www.ted.com/talks/al_gore_on_averting_...   3200520  \n",
       "2  https://www.ted.com/talks/david_pogue_says_sim...   1636292  \n",
       "3  https://www.ted.com/talks/majora_carter_s_tale...   1697550  \n",
       "4  https://www.ted.com/talks/hans_rosling_shows_t...  12005869  "
      ]
     },
     "execution_count": 114,
     "metadata": {},
     "output_type": "execute_result"
    }
   ],
   "source": [
    "df.head()"
   ]
  },
  {
   "cell_type": "code",
   "execution_count": 115,
   "metadata": {},
   "outputs": [],
   "source": [
    "# df.film_date = pd.to_datetime(df.film_date,unit='s')\n",
    "# df = df[df.film_date.isin(pd.date_range(start='1/1/2010', end='12/31/2017'))]"
   ]
  },
  {
   "cell_type": "code",
   "execution_count": 116,
   "metadata": {},
   "outputs": [],
   "source": [
    "df.related_talks = df.related_talks.apply(eval)"
   ]
  },
  {
   "cell_type": "code",
   "execution_count": 117,
   "metadata": {},
   "outputs": [
    {
     "data": {
      "text/plain": [
       "6    2464\n",
       "3      66\n",
       "1      12\n",
       "2       8\n",
       "Name: related_talks, dtype: int64"
      ]
     },
     "execution_count": 117,
     "metadata": {},
     "output_type": "execute_result"
    }
   ],
   "source": [
    "df.related_talks.apply(len).value_counts()"
   ]
  },
  {
   "cell_type": "code",
   "execution_count": 118,
   "metadata": {},
   "outputs": [],
   "source": [
    "related_talks = {}\n",
    "\n",
    "for i, talks in enumerate(df.related_talks):\n",
    "    related_talks[i] = []\n",
    "    \n",
    "    for talk in talks:\n",
    "        related_talks[i].append(talk['title'])"
   ]
  },
  {
   "cell_type": "code",
   "execution_count": 124,
   "metadata": {},
   "outputs": [],
   "source": [
    "pairs = set()\n",
    "\n",
    "titles = df.title.unique()\n",
    "\n",
    "for i, talks in enumerate(df.related_talks):\n",
    "    \n",
    "    for talk in talks:\n",
    "        \n",
    "        if (titles[i],talk['title']) and talk['title'] in titles:\n",
    "            \n",
    "            pairs.add((titles[i],talk['title']))"
   ]
  },
  {
   "attachments": {
    "image.png": {
     "image/png": "[encoded data removed]"
    }
   },
   "cell_type": "markdown",
   "metadata": {},
   "source": [
    "### Moran's I\n",
    "![image.png](attachment:image.png)\n",
    "\n",
    "Values of I usually range from −1 to +1. Values significantly below -1/(N-1) indicate negative spatial autocorrelation and values significantly above -1/(N-1) indicate positive spatial autocorrelation. "
   ]
  },
  {
   "cell_type": "code",
   "execution_count": 133,
   "metadata": {},
   "outputs": [],
   "source": [
    "W = pd.DataFrame(np.zeros((df.title.nunique(),df.title.nunique())),\n",
    "                 index=df.title.unique(),columns=df.title.unique())"
   ]
  },
  {
   "cell_type": "code",
   "execution_count": 134,
   "metadata": {},
   "outputs": [],
   "source": [
    "for pair in pairs:\n",
    "    W.loc[pair[0],pair[1]]+=1\n",
    "#     W.loc[pair[1],pair[0]]+=1\n",
    "\n",
    "# # Diagonal Matrix = 0\n",
    "# for title in titles:\n",
    "#     W.loc[title,title]+=1"
   ]
  },
  {
   "cell_type": "code",
   "execution_count": 135,
   "metadata": {},
   "outputs": [
    {
     "data": {
      "text/plain": [
       "{0.0, 1.0}"
      ]
     },
     "execution_count": 135,
     "metadata": {},
     "output_type": "execute_result"
    }
   ],
   "source": [
    "set(list(W.to_numpy().ravel()))"
   ]
  },
  {
   "cell_type": "code",
   "execution_count": 136,
   "metadata": {},
   "outputs": [
    {
     "data": {
      "text/plain": [
       "False"
      ]
     },
     "execution_count": 136,
     "metadata": {},
     "output_type": "execute_result"
    }
   ],
   "source": [
    "def check_symmetric(a, rtol=1e-05, atol=1e-08):\n",
    "    return np.allclose(a, a.T, rtol=rtol, atol=atol)\n",
    "\n",
    "check_symmetric(W.to_numpy())"
   ]
  },
  {
   "cell_type": "code",
   "execution_count": 137,
   "metadata": {
    "scrolled": true
   },
   "outputs": [],
   "source": [
    "# # transform weights into row standard weights\n",
    "\n",
    "# horizontal_sum_W = W.sum(axis=1)\n",
    "# row_std_w = W.div(horizontal_sum_W,axis=1)\n",
    "# row_std_w = row_std_w.to_numpy()\n",
    "\n",
    "# the original weights\n",
    "row_std_w = W.to_numpy()\n",
    "copy_w = np.copy(row_std_w)"
   ]
  },
  {
   "cell_type": "code",
   "execution_count": 138,
   "metadata": {},
   "outputs": [],
   "source": [
    "# response: view\n",
    "y = df.views.values\n",
    "y_mean = np.mean(y)\n",
    "\n",
    "# Num of titles in total\n",
    "N = df.title.nunique()\n",
    "\n",
    "# y-y_hat\n",
    "for i in range(N):\n",
    "    globals()[f'd{i}'] = y[i] - y_mean       \n",
    "\n",
    "# list of (y-y_hat) for => Σ(y-y_hat)\n",
    "D = [globals()[f'd{n}'] for n in range(N)]\n",
    "\n",
    "# list of (y-y_hat)^2 for => Σ(y-y_hat)^2\n",
    "D_sq = [d**2 for d in D]"
   ]
  },
  {
   "cell_type": "code",
   "execution_count": 139,
   "metadata": {},
   "outputs": [],
   "source": [
    "# ΣiΣj wij\n",
    "sum_W = np.sum(row_std_w)\n",
    "\n",
    "# W x D:\n",
    "# Wij x (Yi-Y_hat) x (Yj-Y_hat)\n",
    "for i in range(N):\n",
    "    for j in range(N):\n",
    "        if row_std_w[i,j]!=0:\n",
    "            row_std_w[i,j]*=D[i]*D[j]"
   ]
  },
  {
   "cell_type": "code",
   "execution_count": 140,
   "metadata": {},
   "outputs": [
    {
     "name": "stdout",
     "output_type": "stream",
     "text": [
      "Moran's I: 0.18779658589736029\n"
     ]
    }
   ],
   "source": [
    "# Conclusion: Weak positive spatial correlation\n",
    "\n",
    "# Moran's I\n",
    "\n",
    "# ΣiΣj(wij x (Yi-Y_hat) x (Yj-Y_hat))      N\n",
    "# ----------------------------------- x --------\n",
    "#          Σi(Yi-Y_hat)^2               ΣiΣj wij\n",
    "\n",
    "moransI = (np.sum(row_std_w)/sum(D_sq)) * (N / sum_W)\n",
    "\n",
    "print('Moran\\'s I:', moransI)"
   ]
  },
  {
   "attachments": {
    "image-2.png": {
     "image/png": "[encoded data removed]"
    },
    "image-4.png": {
     "image/png": "[encoded data removed]"
    },
    "image-5.png": {
     "image/png": "[encoded data removed]"
    },
    "image-6.png": {
     "image/png": "[encoded data removed]"
    },
    "image-7.png": {
     "image/png": "[encoded data removed]"
    },
    "image-8.png": {
     "image/png": "[encoded data removed]"
    },
    "image.png": {
     "image/png": "[encoded data removed]"
    }
   },
   "cell_type": "markdown",
   "metadata": {},
   "source": [
    "#### Expected Value of Moran's I\n",
    "![image-2.png](attachment:image-2.png)\n",
    "#### Variance of Moran's I\n",
    "![image.png](attachment:image.png)\n",
    "![image-5.png](attachment:image-5.png)\n",
    "![image-6.png](attachment:image-6.png)\n",
    "![image-4.png](attachment:image-4.png)\n",
    "![image-7.png](attachment:image-7.png)\n",
    "![image-8.png](attachment:image-8.png)\n",
    "\n",
    "For statistical hypothesis testing, Moran's I values can be transformed to z-scores.\n",
    "\n",
    "link: https://en.wikipedia.org/wiki/Moran%27s_I"
   ]
  },
  {
   "cell_type": "code",
   "execution_count": 141,
   "metadata": {},
   "outputs": [],
   "source": [
    "# use the original weights\n",
    "row_std_w = copy_w\n",
    "\n",
    "# Calculating S1\n",
    "S1 = 0\n",
    "\n",
    "for i in range(N):\n",
    "    for j in range(N):\n",
    "        S1 += (row_std_w[i,j]+row_std_w[j,i])**2\n",
    "        \n",
    "S1 *= 0.5\n",
    "\n",
    "# Calculating S2\n",
    "S2 = 0\n",
    "\n",
    "for i in range(N):\n",
    "    sum_wij, sum_wji = 0, 0\n",
    "    \n",
    "    for j in range(N):\n",
    "        sum_wij += row_std_w[i,j]\n",
    "    for j in range(N):\n",
    "        sum_wji += row_std_w[j,i]\n",
    "    \n",
    "    S2 += (sum_wij + sum_wji)**2\n",
    "    \n",
    "# Calculating S3 \n",
    "D_power_of_4 = [d**4 for d in D]\n",
    "\n",
    "S3 = (1/N * sum(D_power_of_4)) / (1/N * sum(D_sq))**2\n",
    "\n",
    "# Calculating S4\n",
    "S4 = (N**2 - 3*N + 3) * S1 - N * S2 + 3 * sum_W**2\n",
    "\n",
    "# Calculating S5\n",
    "S5 = (N**2 - N) * S1 - 2 * N * S2 + 6 * sum_W**2"
   ]
  },
  {
   "cell_type": "code",
   "execution_count": 142,
   "metadata": {},
   "outputs": [
    {
     "name": "stdout",
     "output_type": "stream",
     "text": [
      "Expected value E(I): -0.00039231071008238524\n",
      "Variance VAR(I): 8.506392099414223e-05\n",
      "Z score of I: 20.40428106155949\n"
     ]
    }
   ],
   "source": [
    "EXP_I = -1 / (N-1)\n",
    "VAR_I = (N * S4 - S3 * S5) / ((N-1) * (N-2) * (N-3) * sum_W**2) - EXP_I**2\n",
    "\n",
    "print('Expected value E(I):', EXP_I) # the random case\n",
    "print('Variance VAR(I):', VAR_I)\n",
    "print('Z score of I:', (moransI-EXP_I)/VAR_I**0.5)"
   ]
  },
  {
   "cell_type": "markdown",
   "metadata": {},
   "source": [
    "### Moran's I Scatter Plot"
   ]
  },
  {
   "cell_type": "code",
   "execution_count": 174,
   "metadata": {
    "scrolled": true
   },
   "outputs": [],
   "source": [
    "W_Y = np.copy(copy_w)\n",
    "views_series = df.views"
   ]
  },
  {
   "cell_type": "code",
   "execution_count": 181,
   "metadata": {
    "scrolled": true
   },
   "outputs": [],
   "source": [
    "i, j = np.where(W_Y>0)\n",
    "\n",
    "first = True\n",
    "lst = []\n",
    "avg_list = []\n",
    "\n",
    "for k in range(len(i)):\n",
    "    if not first and i_idx != i[k]:\n",
    "        avg_list.append(np.mean(lst))\n",
    "        lst = []\n",
    "    \n",
    "    first = False\n",
    "    \n",
    "    i_idx, j_idx = i[k], j[k]\n",
    "    \n",
    "    lst.append(views_series[j_idx])\n",
    "    \n",
    "avg_list.append(np.mean(lst))"
   ]
  },
  {
   "cell_type": "code",
   "execution_count": 190,
   "metadata": {},
   "outputs": [],
   "source": [
    "normalized_views = [(ele-np.mean(views_series.values))/np.std(views_series.values) for ele in views_series.values]\n",
    "normalized_avg_list = [(ele-np.mean(avg_list))/np.std(avg_list) for ele in avg_list]"
   ]
  },
  {
   "cell_type": "code",
   "execution_count": 194,
   "metadata": {},
   "outputs": [
    {
     "data": {
      "text/plain": [
       "Text(0, 0.5, 'W_Views')"
      ]
     },
     "execution_count": 194,
     "metadata": {},
     "output_type": "execute_result"
    },
    {
     "data": {
      "image/png": "[encoded data removed]",
      "text/plain": [
       "<Figure size 432x288 with 1 Axes>"
      ]
     },
     "metadata": {
      "needs_background": "light"
     },
     "output_type": "display_data"
    }
   ],
   "source": [
    "plt.scatter(normalized_views,normalized_avg_list)\n",
    "\n",
    "x = np.linspace(-3,20,100)\n",
    "y = moransI*x\n",
    "plt.plot(x,y)\n",
    "\n",
    "plt.title(f'Moran\\'s I: {moransI}')\n",
    "plt.xlabel('Views')\n",
    "plt.ylabel('W_Views')"
   ]
  },
  {
   "cell_type": "markdown",
   "metadata": {},
   "source": [
    "### Generate Nodes, Edges for Network Analysis"
   ]
  },
  {
   "cell_type": "code",
   "execution_count": null,
   "metadata": {},
   "outputs": [],
   "source": [
    "nodes = pd.concat([df.title,df_tags],axis=1).reset_index()\n",
    "nodes.rename(columns={'title':'label'},inplace=True)\n",
    "tilte2idx = nodes.set_index('label')['index'].to_dict()"
   ]
  },
  {
   "cell_type": "code",
   "execution_count": null,
   "metadata": {},
   "outputs": [],
   "source": [
    "edges = pd.DataFrame(pairs,columns=['Talk1','Talk2'])\n",
    "edges.Talk1 = edges.Talk1.apply(lambda x: tilte2idx[x])\n",
    "edges.Talk2 = edges.Talk2.apply(lambda x: tilte2idx[x])"
   ]
  },
  {
   "cell_type": "code",
   "execution_count": null,
   "metadata": {},
   "outputs": [],
   "source": [
    "nodes.to_csv('nodes.csv',index=None)\n",
    "edges.to_csv('edges.csv',index=None)"
   ]
  },
  {
   "cell_type": "markdown",
   "metadata": {},
   "source": [
    "### KNN Unsupervised Learning (Extra)"
   ]
  },
  {
   "cell_type": "code",
   "execution_count": 77,
   "metadata": {},
   "outputs": [
    {
     "data": {
      "text/plain": [
       "NearestNeighbors(metric='cosine')"
      ]
     },
     "execution_count": 77,
     "metadata": {},
     "output_type": "execute_result"
    }
   ],
   "source": [
    "# every single movie has a vector\n",
    "W2 = csr_matrix(W)\n",
    "\n",
    "# instantiation\n",
    "knn = NearestNeighbors(metric=\"cosine\")\n",
    "\n",
    "# consine distance determines similarities (users, movies)\n",
    "# consine angle (smaller) is inverse to similarities (higher)\n",
    "\n",
    "knn.fit(W2)"
   ]
  },
  {
   "cell_type": "code",
   "execution_count": 93,
   "metadata": {},
   "outputs": [
    {
     "data": {
      "text/plain": [
       "array([2316, 2445, 1991, 1500, 2328,  203, 1420], dtype=int64)"
      ]
     },
     "execution_count": 93,
     "metadata": {},
     "output_type": "execute_result"
    }
   ],
   "source": [
    "x = W.loc[\"How America's public schools keep kids in poverty\",:].values.reshape(1,-1)\n",
    "distances, indices = knn.kneighbors(x, n_neighbors=7)\n",
    "indices.reshape(-1)"
   ]
  },
  {
   "cell_type": "code",
   "execution_count": 94,
   "metadata": {},
   "outputs": [
    {
     "name": "stdout",
     "output_type": "stream",
     "text": [
      "You are currently watching: How America's public schools keep kids in poverty\n",
      "You should also watch: A summer school kids actually want to attend\n",
      "You should also watch: How to fix a broken school? Lead fearlessly, love hard\n",
      "You should also watch: Our failing schools. Enough is enough!\n",
      "You should also watch: Help for kids the education system ignores\n",
      "You should also watch: My wish: Once Upon a School\n",
      "You should also watch: Kids need structure\n"
     ]
    }
   ],
   "source": [
    "for i in range(len(indices.reshape(-1))):\n",
    "  if i == 0:\n",
    "    print(\"You are currently watching:\", W.index[indices.reshape(-1)[i]])\n",
    "    continue\n",
    "  print(\"You should also watch:\", W.index[indices.reshape(-1)[i]])"
   ]
  },
  {
   "cell_type": "code",
   "execution_count": 88,
   "metadata": {
    "scrolled": true
   },
   "outputs": [
    {
     "data": {
      "text/plain": [
       "[{'id': 865,\n",
       "  'hero': 'https://pe.tedcdn.com/images/ted/172559_800x600.jpg',\n",
       "  'speaker': 'Ken Robinson',\n",
       "  'title': 'Bring on the learning revolution!',\n",
       "  'duration': 1008,\n",
       "  'slug': 'sir_ken_robinson_bring_on_the_revolution',\n",
       "  'viewed_count': 7266103},\n",
       " {'id': 1738,\n",
       "  'hero': 'https://pe.tedcdn.com/images/ted/de98b161ad1434910ff4b56c89de71af04b8b873_1600x1200.jpg',\n",
       "  'speaker': 'Ken Robinson',\n",
       "  'title': \"How to escape education's death valley\",\n",
       "  'duration': 1151,\n",
       "  'slug': 'ken_robinson_how_to_escape_education_s_death_valley',\n",
       "  'viewed_count': 6657572},\n",
       " {'id': 2276,\n",
       "  'hero': 'https://pe.tedcdn.com/images/ted/3821f3728e0b755c7b9aea2e69cc093eca41abe1_2880x1620.jpg',\n",
       "  'speaker': 'Linda Cliatt-Wayman',\n",
       "  'title': 'How to fix a broken school? Lead fearlessly, love hard',\n",
       "  'duration': 1027,\n",
       "  'slug': 'linda_cliatt_wayman_how_to_fix_a_broken_school_lead_fearlessly_love_hard',\n",
       "  'viewed_count': 1617101},\n",
       " {'id': 892,\n",
       "  'hero': 'https://pe.tedcdn.com/images/ted/e79958940573cc610ccb583619a54866c41ef303_2880x1620.jpg',\n",
       "  'speaker': 'Charles Leadbeater',\n",
       "  'title': 'Education innovation in the slums',\n",
       "  'duration': 1138,\n",
       "  'slug': 'charles_leadbeater_on_education',\n",
       "  'viewed_count': 772296},\n",
       " {'id': 1232,\n",
       "  'hero': 'https://pe.tedcdn.com/images/ted/0e3e4e92d5ee8ae0e43962d447d3f790b31099b8_800x600.jpg',\n",
       "  'speaker': 'Geoff Mulgan',\n",
       "  'title': 'A short intro to the Studio School',\n",
       "  'duration': 376,\n",
       "  'slug': 'geoff_mulgan_a_short_intro_to_the_studio_school',\n",
       "  'viewed_count': 667971},\n",
       " {'id': 2616,\n",
       "  'hero': 'https://pe.tedcdn.com/images/ted/71cde5a6fa6c717488fb55eff9eef939a9241761_2880x1620.jpg',\n",
       "  'speaker': 'Kandice Sumner',\n",
       "  'title': \"How America's public schools keep kids in poverty\",\n",
       "  'duration': 830,\n",
       "  'slug': 'kandice_sumner_how_america_s_public_schools_keep_kids_in_poverty',\n",
       "  'viewed_count': 1181333}]"
      ]
     },
     "execution_count": 88,
     "metadata": {},
     "output_type": "execute_result"
    }
   ],
   "source": [
    "df.related_talks[0]"
   ]
  },
  {
   "cell_type": "code",
   "execution_count": null,
   "metadata": {},
   "outputs": [],
   "source": []
  }
 ],
 "metadata": {
  "kernelspec": {
   "display_name": "Python 3",
   "language": "python",
   "name": "python3"
  },
  "language_info": {
   "codemirror_mode": {
    "name": "ipython",
    "version": 3
   },
   "file_extension": ".py",
   "mimetype": "text/x-python",
   "name": "python",
   "nbconvert_exporter": "python",
   "pygments_lexer": "ipython3",
   "version": "3.8.5"
  }
 },
 "nbformat": 4,
 "nbformat_minor": 4
}
